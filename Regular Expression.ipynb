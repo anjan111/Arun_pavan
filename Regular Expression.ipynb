{
 "cells": [
  {
   "cell_type": "code",
   "execution_count": 3,
   "metadata": {},
   "outputs": [
    {
     "name": "stdout",
     "output_type": "stream",
     "text": [
      "<_sre.SRE_Match object at 0x00000000047B7780>\n",
      "None\n"
     ]
    }
   ],
   "source": [
    "import re\n",
    "'''\n",
    "re module is used for regular expression\n",
    "\n",
    "===>>> To extract the data from file\n",
    "\n",
    "===>> to modify the regular \n",
    "\n",
    "===>> to delete the regular\n",
    "'''\n",
    "# functions for re\n",
    "'''\n",
    "===>> search() --->>. to check the regular expressionis available with in whole str\n",
    "===>> match()  --->>  to check the regular exp at bigging of str\n",
    "===>> findall()  ---->>  to return the list \n",
    "===>> sub()  ------>>> to replace the data\n",
    "'''\n",
    "data = \"anjan kumar python program\"\n",
    "print re.search(r\"kumar\",data)\n",
    "print re.search(r\"kumar1\",data)"
   ]
  },
  {
   "cell_type": "code",
   "execution_count": 5,
   "metadata": {},
   "outputs": [
    {
     "name": "stdout",
     "output_type": "stream",
     "text": [
      "None\n",
      "<_sre.SRE_Match object at 0x00000000047B7718>\n"
     ]
    }
   ],
   "source": [
    "data = \"anjan kumar python program\"\n",
    "print re.match(r\"kumar\",data)\n",
    "print re.search(r\"anjan\",data)"
   ]
  },
  {
   "cell_type": "code",
   "execution_count": 6,
   "metadata": {},
   "outputs": [
    {
     "name": "stdout",
     "output_type": "stream",
     "text": [
      "['kumar', 'kumar', 'kumar']\n",
      "[]\n"
     ]
    }
   ],
   "source": [
    "data = \"anjan kumar python anil kumar paresh kumar program\"\n",
    "print re.findall(r\"kumar\",data)\n",
    "print re.findall(r\"kumar1\",data)"
   ]
  },
  {
   "cell_type": "code",
   "execution_count": 12,
   "metadata": {},
   "outputs": [
    {
     "name": "stdout",
     "output_type": "stream",
     "text": [
      "anjan kumar python anil kumar paresh kumar program\n",
      "anjan  python anil  paresh  program\n",
      "anjan KUMAR python anil KUMAR paresh KUMAR program\n"
     ]
    }
   ],
   "source": [
    "data = \"anjan kumar python anil kumar paresh kumar program\"\n",
    "print data\n",
    "print re.sub(r\"kumar\",\"\",data)# delete\n",
    "print re.sub(r\"kumar\",\"KUMAR\",data)\n"
   ]
  },
  {
   "cell_type": "code",
   "execution_count": 2,
   "metadata": {},
   "outputs": [
    {
     "data": {
      "text/plain": [
       "['an3', 'an ', 'anu']"
      ]
     },
     "execution_count": 2,
     "metadata": {},
     "output_type": "execute_result"
    }
   ],
   "source": [
    "#special characters\n",
    "\n",
    "#  . --->>> match any single character\n",
    "import re\n",
    "data = \"an3an aravind anusha arun dom\"\n",
    "re.findall(r'an.',data)"
   ]
  },
  {
   "cell_type": "code",
   "execution_count": 14,
   "metadata": {},
   "outputs": [
    {
     "data": {
      "text/plain": [
       "['an3', 'anT', 'anu', 'an ']"
      ]
     },
     "execution_count": 14,
     "metadata": {},
     "output_type": "execute_result"
    }
   ],
   "source": [
    "\n",
    "#  [group of  character] --->>> from square match any single character\n",
    "import re\n",
    "data = \"an3anTaravind anu an sha arun dom\"\n",
    "re.findall(r'an[0-9a-zA-Z ]',data)"
   ]
  },
  {
   "cell_type": "code",
   "execution_count": 16,
   "metadata": {},
   "outputs": [
    {
     "data": {
      "text/plain": [
       "['annjan', 'annnnnnjan', 'anjan', 'ajan']"
      ]
     },
     "execution_count": 16,
     "metadata": {},
     "output_type": "execute_result"
    }
   ],
   "source": [
    "\n",
    "#  * --->>> before the * , what ever the character is there it can repeate either  0 or more than 0\n",
    "import re\n",
    "data = \"annjan kjdjkfj  annnnnnjan hdsh anjan jh ajan dhjdfj \"\n",
    "re.findall(r'an*jan',data)"
   ]
  },
  {
   "cell_type": "code",
   "execution_count": 17,
   "metadata": {},
   "outputs": [
    {
     "data": {
      "text/plain": [
       "['annjan', 'annnnnnjan', 'anjan']"
      ]
     },
     "execution_count": 17,
     "metadata": {},
     "output_type": "execute_result"
    }
   ],
   "source": [
    "#  + --->>> before the + , what ever the character is there it can repeate either  1 or more than 1\n",
    "import re\n",
    "data = \"annjan kjdjkfj  annnnnnjan hdsh anjan jh ajan dhjdfj \"\n",
    "re.findall(r'an+jan',data)"
   ]
  },
  {
   "cell_type": "code",
   "execution_count": 19,
   "metadata": {},
   "outputs": [
    {
     "data": {
      "text/plain": [
       "['anjan', 'ajan']"
      ]
     },
     "execution_count": 19,
     "metadata": {},
     "output_type": "execute_result"
    }
   ],
   "source": [
    "#  ? --->>> before the ? , what ever the character is there it can repeate either  0 or 1\n",
    "import re\n",
    "data = \"annjan kjdjkfj  annnnnnjan hdsh anjan jh ajan dhjdfj \"\n",
    "re.findall(r'an?jan',data)"
   ]
  },
  {
   "cell_type": "code",
   "execution_count": 22,
   "metadata": {},
   "outputs": [
    {
     "data": {
      "text/plain": [
       "['a2jan', 'a7jan']"
      ]
     },
     "execution_count": 22,
     "metadata": {},
     "output_type": "execute_result"
    }
   ],
   "source": [
    "#  \\d ---->>> it match only single digit\n",
    "import re\n",
    "data =\"a2jan anjan a@jan aNjan a7jan\"\n",
    "re.findall(r'a\\djan',data)"
   ]
  },
  {
   "cell_type": "code",
   "execution_count": 25,
   "metadata": {},
   "outputs": [
    {
     "data": {
      "text/plain": [
       "['anjan', 'a@jan', 'aNjan']"
      ]
     },
     "execution_count": 25,
     "metadata": {},
     "output_type": "execute_result"
    }
   ],
   "source": [
    "#  \\D ---->>> it match only single charaacter that to its not a digit\n",
    "import re\n",
    "data =\"a2jan anjan a@jan aNjan a7jan\"\n",
    "re.findall(r'a\\Djan',data)"
   ]
  },
  {
   "cell_type": "code",
   "execution_count": 27,
   "metadata": {},
   "outputs": [
    {
     "data": {
      "text/plain": [
       "['a jan', 'a jan']"
      ]
     },
     "execution_count": 27,
     "metadata": {},
     "output_type": "execute_result"
    }
   ],
   "source": [
    "#  \\s ---->>> it match only single space\n",
    "import re\n",
    "data =\"a jan anjan a@jan a jan a7jan\"\n",
    "re.findall(r'a\\sjan',data)"
   ]
  },
  {
   "cell_type": "code",
   "execution_count": 29,
   "metadata": {},
   "outputs": [
    {
     "data": {
      "text/plain": [
       "['anjan', 'a@jan', 'a7jan']"
      ]
     },
     "execution_count": 29,
     "metadata": {},
     "output_type": "execute_result"
    }
   ],
   "source": [
    "#  \\S ---->>> it match only single character except space\n",
    "import re\n",
    "data =\"a jan anjan a@jan a jan a7jan\"\n",
    "re.findall(r'a\\Sjan',data)"
   ]
  },
  {
   "cell_type": "code",
   "execution_count": 30,
   "metadata": {},
   "outputs": [
    {
     "data": {
      "text/plain": [
       "['anjan', 'a7jan']"
      ]
     },
     "execution_count": 30,
     "metadata": {},
     "output_type": "execute_result"
    }
   ],
   "source": [
    "#  \\w ---->>> it match only single  either digits or alphabet\n",
    "import re\n",
    "data =\"a jan anjan a@jan a jan a7jan\"\n",
    "re.findall(r'a\\wjan',data)"
   ]
  },
  {
   "cell_type": "code",
   "execution_count": 32,
   "metadata": {},
   "outputs": [
    {
     "data": {
      "text/plain": [
       "['a jan', 'a@jan', 'a jan']"
      ]
     },
     "execution_count": 32,
     "metadata": {},
     "output_type": "execute_result"
    }
   ],
   "source": [
    "#  \\W ---->>> it match only single  special character\n",
    "import re\n",
    "data =\"a jan anjan a@jan a jan a7jan\"\n",
    "re.findall(r'a\\Wjan',data)"
   ]
  },
  {
   "cell_type": "code",
   "execution_count": 34,
   "metadata": {},
   "outputs": [
    {
     "data": {
      "text/plain": [
       "['9634123789', '7845034516']"
      ]
     },
     "execution_count": 34,
     "metadata": {},
     "output_type": "execute_result"
    }
   ],
   "source": [
    "# wap find the phone numbers from a data\n",
    "data = \"jhgfh9634123789jkgjg7845034516gjgh\"\n",
    "re. findall(r'\\d{10}',data)"
   ]
  },
  {
   "cell_type": "code",
   "execution_count": null,
   "metadata": {},
   "outputs": [],
   "source": [
    "### wap for the read a file and find out phone numbers and mails and store into another file"
   ]
  },
  {
   "cell_type": "code",
   "execution_count": null,
   "metadata": {},
   "outputs": [],
   "source": [
    "### "
   ]
  }
 ],
 "metadata": {
  "kernelspec": {
   "display_name": "Python 2",
   "language": "python",
   "name": "python2"
  },
  "language_info": {
   "codemirror_mode": {
    "name": "ipython",
    "version": 2
   },
   "file_extension": ".py",
   "mimetype": "text/x-python",
   "name": "python",
   "nbconvert_exporter": "python",
   "pygments_lexer": "ipython2",
   "version": "2.7.16"
  }
 },
 "nbformat": 4,
 "nbformat_minor": 2
}
