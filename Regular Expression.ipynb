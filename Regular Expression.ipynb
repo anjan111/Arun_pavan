{
 "cells": [
  {
   "cell_type": "code",
   "execution_count": 3,
   "metadata": {},
   "outputs": [
    {
     "name": "stdout",
     "output_type": "stream",
     "text": [
      "<_sre.SRE_Match object at 0x00000000047B7780>\n",
      "None\n"
     ]
    }
   ],
   "source": [
    "import re\n",
    "'''\n",
    "re module is used for regular expression\n",
    "\n",
    "===>>> To extract the data from file\n",
    "\n",
    "===>> to modify the regular \n",
    "\n",
    "===>> to delete the regular\n",
    "'''\n",
    "# functions for re\n",
    "'''\n",
    "===>> search() --->>. to check the regular expressionis available with in whole str\n",
    "===>> match()  --->>  to check the regular exp at bigging of str\n",
    "===>> findall()  ---->>  to return the list \n",
    "===>> sub()  ------>>> to replace the data\n",
    "'''\n",
    "data = \"anjan kumar python program\"\n",
    "print re.search(r\"kumar\",data)\n",
    "print re.search(r\"kumar1\",data)"
   ]
  },
  {
   "cell_type": "code",
   "execution_count": 5,
   "metadata": {},
   "outputs": [
    {
     "name": "stdout",
     "output_type": "stream",
     "text": [
      "None\n",
      "<_sre.SRE_Match object at 0x00000000047B7718>\n"
     ]
    }
   ],
   "source": [
    "data = \"anjan kumar python program\"\n",
    "print re.match(r\"kumar\",data)\n",
    "print re.search(r\"anjan\",data)"
   ]
  },
  {
   "cell_type": "code",
   "execution_count": 6,
   "metadata": {},
   "outputs": [
    {
     "name": "stdout",
     "output_type": "stream",
     "text": [
      "['kumar', 'kumar', 'kumar']\n",
      "[]\n"
     ]
    }
   ],
   "source": [
    "data = \"anjan kumar python anil kumar paresh kumar program\"\n",
    "print re.findall(r\"kumar\",data)\n",
    "print re.findall(r\"kumar1\",data)"
   ]
  },
  {
   "cell_type": "code",
   "execution_count": 12,
   "metadata": {},
   "outputs": [
    {
     "name": "stdout",
     "output_type": "stream",
     "text": [
      "anjan kumar python anil kumar paresh kumar program\n",
      "anjan  python anil  paresh  program\n",
      "anjan KUMAR python anil KUMAR paresh KUMAR program\n"
     ]
    }
   ],
   "source": [
    "data = \"anjan kumar python anil kumar paresh kumar program\"\n",
    "print data\n",
    "print re.sub(r\"kumar\",\"\",data)# delete\n",
    "print re.sub(r\"kumar\",\"KUMAR\",data)\n"
   ]
  },
  {
   "cell_type": "code",
   "execution_count": null,
   "metadata": {},
   "outputs": [],
   "source": [
    "# regular expression continue next week"
   ]
  },
  {
   "cell_type": "code",
   "execution_count": null,
   "metadata": {},
   "outputs": [],
   "source": []
  }
 ],
 "metadata": {
  "kernelspec": {
   "display_name": "Python 2",
   "language": "python",
   "name": "python2"
  },
  "language_info": {
   "codemirror_mode": {
    "name": "ipython",
    "version": 2
   },
   "file_extension": ".py",
   "mimetype": "text/x-python",
   "name": "python",
   "nbconvert_exporter": "python",
   "pygments_lexer": "ipython2",
   "version": "2.7.16"
  }
 },
 "nbformat": 4,
 "nbformat_minor": 2
}
