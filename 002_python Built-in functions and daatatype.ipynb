{
 "cells": [
  {
   "cell_type": "markdown",
   "metadata": {},
   "source": [
    "# datatype :-\n",
    "\n",
    "===>>> What type of data which holded by variable \n",
    "\n",
    "===>>> There are 2 types \n",
    "\n",
    "    1. fundamental Datatype\n",
    "    \n",
    "            ====>>>  A signle variable can hold single data \n",
    "            \n",
    "            ======>>>>>>int  ====>> 12 ,90,-32\n",
    "            \n",
    "            ======>>>>>>> float ===>  -12.24334 ,  90.32232\n",
    "            \n",
    "            ======>>>>>>> bool ===>>  True   / False\n",
    "            \n",
    "            ======>>>>>>> complex ===>>    real + imgj ===>>  34+67j\n",
    "            \n",
    "            ======>>>>>>> None Type ===>>  None\n",
    "            > \n",
    "    \n",
    "    2. sequencial Datatype \n",
    "    \n",
    "            =====>>  A single variable can hold multiple data elements\n",
    "            \n",
    "            ===========>>>>   str  ===>> a group of charactter we can store with double \"\"\n",
    "            \n",
    "                                var = \"pyth32433on\"\n",
    "            \n",
    "            ===========>>>>>  list ===>>  a group of data elements we can store  with  [  ]\n",
    "            \n",
    "                                var = [12, 56.23 ,True,6+3j]\n",
    "            \n",
    "            ===========>>>>>  tuple ===>> a group of data elements we can store with in ( )\n",
    "            \n",
    "                                var = (12, 56.23 ,True,6+3j)\n",
    "            \n",
    "            ===========>>>>>   set  ===>>  a group of data element  we can store with in { }\n",
    "            \n",
    "                                var = {12, 56.23 ,True,6+3j}\n",
    "            \n",
    "            ===========>>>>>   dict ====>>  a group pf items we can store with in { }\n",
    "            \n",
    "                                var = { 23 : \"python\"  ,  67.22  : 789 }"
   ]
  },
  {
   "cell_type": "markdown",
   "metadata": {},
   "source": [
    "# python built-in functions\n",
    "\n",
    "\n",
    "=====>> input() ===>> to read the data from keyboard\n",
    "\n",
    "====>>  raw_input() ===>> to read the data from keyboard\n",
    "\n",
    "=====>> print  ====>>  to display the daata on monitor\n",
    "\n",
    "====>>  type()  ===>> to know the datatype\n",
    "\n",
    "====>>  id ()   ====>> to know the memory loc"
   ]
  },
  {
   "cell_type": "code",
   "execution_count": 1,
   "metadata": {},
   "outputs": [
    {
     "name": "stdout",
     "output_type": "stream",
     "text": [
      "enter int : 789\n",
      "789\n",
      "<type 'int'>\n",
      "66632232\n",
      "enter int : 789\n",
      "789\n",
      "<type 'str'>\n",
      "73074128\n"
     ]
    }
   ],
   "source": [
    "var = input(\"enter int : \")  ##  datatype is int\n",
    "print var\n",
    "print type(var)\n",
    "print id(var)\n",
    "var = raw_input(\"enter int : \")## datatype is str\n",
    "print var\n",
    "print type(var)\n",
    "print id(var)"
   ]
  },
  {
   "cell_type": "code",
   "execution_count": 2,
   "metadata": {},
   "outputs": [
    {
     "name": "stdout",
     "output_type": "stream",
     "text": [
      "enter flaot : 45.888\n",
      "45.888\n",
      "<type 'float'>\n",
      "66627816\n",
      "enter float: 45.888\n",
      "45.888\n",
      "<type 'str'>\n",
      "66994008\n"
     ]
    }
   ],
   "source": [
    "var = input(\"enter flaot : \")  ##  datatype is float\n",
    "print var\n",
    "print type(var)\n",
    "print id(var)\n",
    "var = raw_input(\"enter float: \")## datatype is str\n",
    "print var\n",
    "print type(var)\n",
    "print id(var)"
   ]
  },
  {
   "cell_type": "code",
   "execution_count": 3,
   "metadata": {},
   "outputs": [
    {
     "name": "stdout",
     "output_type": "stream",
     "text": [
      "enter complex : 7+5j\n",
      "(7+5j)\n",
      "<type 'complex'>\n",
      "67057968\n",
      "enter complex : 7+5j\n",
      "7+5j\n",
      "<type 'str'>\n",
      "66994008\n"
     ]
    }
   ],
   "source": [
    "var = input(\"enter complex : \")  ##  datatype is complex\n",
    "print var\n",
    "print type(var)\n",
    "print id(var)\n",
    "var = raw_input(\"enter complex : \")## datatype is str\n",
    "print var\n",
    "print type(var)\n",
    "print id(var)"
   ]
  },
  {
   "cell_type": "code",
   "execution_count": 4,
   "metadata": {},
   "outputs": [
    {
     "name": "stdout",
     "output_type": "stream",
     "text": [
      "enter None : None\n",
      "None\n",
      "<type 'NoneType'>\n",
      "1751452792\n",
      "enter None : None\n",
      "None\n",
      "<type 'str'>\n",
      "66992568\n"
     ]
    }
   ],
   "source": [
    "var = input(\"enter None : \")  ##  datatype is Nonetype\n",
    "print var\n",
    "print type(var)\n",
    "print id(var)\n",
    "var = raw_input(\"enter None : \")## datatype is str\n",
    "print var\n",
    "print type(var)\n",
    "print id(var)"
   ]
  },
  {
   "cell_type": "code",
   "execution_count": 5,
   "metadata": {},
   "outputs": [
    {
     "name": "stdout",
     "output_type": "stream",
     "text": [
      "enter bool : True\n",
      "True\n",
      "<type 'bool'>\n",
      "1751498472\n",
      "enter bool : True\n",
      "True\n",
      "<type 'str'>\n",
      "66992808\n"
     ]
    }
   ],
   "source": [
    "var = input(\"enter bool : \")  ##  datatype is bool\n",
    "print var\n",
    "print type(var)\n",
    "print id(var)\n",
    "var = raw_input(\"enter bool : \")## datatype is str\n",
    "print var\n",
    "print type(var)\n",
    "print id(var)"
   ]
  },
  {
   "cell_type": "code",
   "execution_count": 6,
   "metadata": {},
   "outputs": [
    {
     "name": "stdout",
     "output_type": "stream",
     "text": [
      "enter list : [12 ,45.3,7+4j]\n",
      "[12, 45.3, (7+4j)]\n",
      "<type 'list'>\n",
      "66834760\n",
      "enter list : [12 ,45.3,7+4j]\n",
      "[12 ,45.3,7+4j]\n",
      "<type 'str'>\n",
      "73196672\n"
     ]
    }
   ],
   "source": [
    "var = input(\"enter list : \")  ##  datatype is list\n",
    "print var\n",
    "print type(var)\n",
    "print id(var)\n",
    "var = raw_input(\"enter list : \")## datatype is str\n",
    "print var\n",
    "print type(var)\n",
    "print id(var)"
   ]
  },
  {
   "cell_type": "code",
   "execution_count": 8,
   "metadata": {},
   "outputs": [
    {
     "name": "stdout",
     "output_type": "stream",
     "text": [
      "enter int 789\n",
      "789\n",
      "<type 'str'>\n",
      "66993408\n",
      "789\n",
      "<type 'int'>\n",
      "66632352\n"
     ]
    }
   ],
   "source": [
    "# daattype conversion functions\n",
    "\n",
    "# str() ====> to onvert any daatatype to str daatatyep\n",
    "'''\n",
    "====>. raw_input ===> int ===> str data ====>>        int() ===>> int\n",
    "====>. raw_input ===> float ===> str data ====>>      float() ===>> float\n",
    "====>. raw_input ===> complex ===> str data ====>>    complex() ===>> complex\n",
    "====>. raw_input ===> bool ===> str data ====>>       bool() ===>> bool\n",
    "====>. raw_input ===> list ===> str data ====>>       list() ===>> list\n",
    "====>. raw_input ===> tuple ===> str data ====>>      tuple() ===>> tuple\n",
    "====>. raw_input ===> set ===> str data ====>>        set() ===>> set\n",
    "====>. raw_input ===> dict ===> str data ====>>       dict() ===>> dict\n",
    "\n",
    "'''\n",
    "var = raw_input(\"enter int \")\n",
    "print var\n",
    "print type(var)\n",
    "print id(var)\n",
    "\n",
    "var = int(var)\n",
    "print var\n",
    "print type(var)\n",
    "print id(var)"
   ]
  },
  {
   "cell_type": "code",
   "execution_count": 9,
   "metadata": {},
   "outputs": [
    {
     "name": "stdout",
     "output_type": "stream",
     "text": [
      "enter float 45.56\n",
      "45.56\n",
      "<type 'str'>\n",
      "66993408\n",
      "45.56\n",
      "<type 'float'>\n",
      "66627864\n"
     ]
    }
   ],
   "source": [
    "var = raw_input(\"enter float \")\n",
    "print var\n",
    "print type(var)\n",
    "print id(var)\n",
    "\n",
    "var = float(var)\n",
    "print var\n",
    "print type(var)\n",
    "print id(var)"
   ]
  },
  {
   "cell_type": "code",
   "execution_count": 10,
   "metadata": {},
   "outputs": [
    {
     "name": "stdout",
     "output_type": "stream",
     "text": [
      "enter complex 4+8j\n",
      "4+8j\n",
      "<type 'str'>\n",
      "66993408\n",
      "(4+8j)\n",
      "<type 'complex'>\n",
      "67057808\n"
     ]
    }
   ],
   "source": [
    "var = raw_input(\"enter complex \")\n",
    "print var\n",
    "print type(var)\n",
    "print id(var)\n",
    "\n",
    "var = complex(var)\n",
    "print var\n",
    "print type(var)\n",
    "print id(var)"
   ]
  }
 ],
 "metadata": {
  "kernelspec": {
   "display_name": "Python 2",
   "language": "python",
   "name": "python2"
  },
  "language_info": {
   "codemirror_mode": {
    "name": "ipython",
    "version": 2
   },
   "file_extension": ".py",
   "mimetype": "text/x-python",
   "name": "python",
   "nbconvert_exporter": "python",
   "pygments_lexer": "ipython2",
   "version": "2.7.16"
  }
 },
 "nbformat": 4,
 "nbformat_minor": 2
}
