{
 "cells": [
  {
   "cell_type": "code",
   "execution_count": 3,
   "metadata": {},
   "outputs": [
    {
     "name": "stdout",
     "output_type": "stream",
     "text": [
      "123\n",
      "123\n",
      "123\n",
      "456\n",
      "100\n",
      "300\n"
     ]
    }
   ],
   "source": [
    "# CLASS :-\n",
    "'''\n",
    "===>> lOGICAL ENTITY FOR AN OBJECT\n",
    "===>> Imaginary part of the object\n",
    "==>> classes are used for to create objects\n",
    "==>> class keyword \n",
    "==>> collectio of attributes \n",
    "''' \n",
    "\n",
    "# object \n",
    "'''\n",
    "===>>> physical entity for logical class\n",
    "==>>> instance of  a class\n",
    "===>> instancation --->> the process of creating a object\n",
    "\n",
    "'''\n",
    "class  Class_name():\n",
    "    var =123\n",
    "obj1  =  Class_name()\n",
    "obj2  =  Class_name()\n",
    "obj3  =  Class_name()\n",
    "print obj1.var\n",
    "print obj2.var\n",
    "print obj3.var\n",
    "obj1.var = 456\n",
    "obj2.var = 100\n",
    "obj3.var = 300\n",
    "print obj1.var\n",
    "print obj2.var\n",
    "print obj3.var"
   ]
  },
  {
   "cell_type": "code",
   "execution_count": 9,
   "metadata": {},
   "outputs": [
    {
     "name": "stdout",
     "output_type": "stream",
     "text": [
      "__main__\n",
      "obj1 <__main__.Anjan instance at 0x0000000004F20148>\n",
      "obj2:  <__main__.Anjan instance at 0x0000000004F20088>\n",
      "self :  <__main__.Anjan instance at 0x0000000004F20148>\n",
      "Met1\n",
      "self :  <__main__.Anjan instance at 0x0000000004F20088>\n",
      "Met1\n"
     ]
    }
   ],
   "source": [
    "# methods\n",
    "'''\n",
    "===>> The functions which are in classes \n",
    "==>>  self is argumens ---> which is 1st argument of method\n",
    "==>> it can store object information\n",
    "\n",
    "'''\n",
    "print __name__\n",
    "class Anjan():\n",
    "    def Met1(self):\n",
    "        print \"self : \",self\n",
    "        print \"Met1\"\n",
    "obj1  =Anjan()\n",
    "print \"obj1\",obj1\n",
    "obj2 = Anjan()\n",
    "print \"obj2: \",obj2\n",
    "obj1.Met1()\n",
    "obj2.Met1()\n"
   ]
  },
  {
   "cell_type": "code",
   "execution_count": 12,
   "metadata": {},
   "outputs": [
    {
     "name": "stdout",
     "output_type": "stream",
     "text": [
      "init self :  <__main__.Anjan instance at 0x0000000004F20748>\n",
      "init self :  <__main__.Anjan instance at 0x0000000004F204C8>\n",
      "noramal self  <__main__.Anjan instance at 0x0000000004F20748>\n",
      "noramal self  <__main__.Anjan instance at 0x0000000004F204C8>\n",
      "init self :  <__main__.Anjan instance at 0x0000000004F20748>\n",
      "init self :  <__main__.Anjan instance at 0x0000000004F204C8>\n"
     ]
    }
   ],
   "source": [
    "# Special Methods\n",
    "'''\n",
    "===>>>Special Method executed automatically\n",
    "\n",
    "===>>   __methodname__\n",
    "\n",
    "===>>> constructor \n",
    "\n",
    "=====>>> when we are creating object at the point of time \n",
    "====>>>   __init__()\n",
    "'''\n",
    "class Anjan():\n",
    "    def __init__(self):\n",
    "        print \"init self : \",self\n",
    "    def normal(self):\n",
    "        print\"noramal self \" ,self\n",
    "obj1= Anjan()\n",
    "obj2 = Anjan()\n",
    "obj1.normal()\n",
    "obj2.normal()\n",
    "obj1.__init__()\n",
    "obj2.__init__()"
   ]
  },
  {
   "cell_type": "code",
   "execution_count": 15,
   "metadata": {},
   "outputs": [
    {
     "name": "stdout",
     "output_type": "stream",
     "text": [
      "init self :  <__main__.Anjan instance at 0x0000000004F20448>\n",
      "12\n",
      "24\n",
      "init self :  <__main__.Anjan instance at 0x0000000004F20AC8>\n",
      "None\n",
      "None\n",
      "noramal self  <__main__.Anjan instance at 0x0000000004F20448>\n",
      "78\n",
      "90\n",
      "noramal self  <__main__.Anjan instance at 0x0000000004F20AC8>\n",
      "None\n",
      "None\n",
      "init self :  <__main__.Anjan instance at 0x0000000004F20448>\n",
      "None\n",
      "None\n",
      "init self :  <__main__.Anjan instance at 0x0000000004F20AC8>\n",
      "None\n",
      "None\n"
     ]
    }
   ],
   "source": [
    "class Anjan():\n",
    "    def __init__(self=None,a=None,b=None):\n",
    "        print \"init self : \",self\n",
    "        print a\n",
    "        print b\n",
    "    def normal(self=None,x=None,y=None):\n",
    "        print\"noramal self \" ,self\n",
    "        print x\n",
    "        print y\n",
    "obj1= Anjan(12,24)\n",
    "obj2 = Anjan()\n",
    "obj1.normal(78,90)\n",
    "obj2.normal()\n",
    "obj1.__init__()\n",
    "obj2.__init__()"
   ]
  },
  {
   "cell_type": "code",
   "execution_count": 1,
   "metadata": {},
   "outputs": [
    {
     "name": "stdout",
     "output_type": "stream",
     "text": [
      "<__main__.Class instance at 0x000000000482B588>\n",
      " i am constructor\n",
      "<__main__.Class instance at 0x000000000482B588>\n",
      "i am distructor\n"
     ]
    }
   ],
   "source": [
    "class Class():\n",
    "    def __init__(self):\n",
    "        print self\n",
    "        print \" i am constructor\"\n",
    "    def __del__(self):\n",
    "        print self\n",
    "        print \"i am distructor\"\n",
    "obj = Class()\n",
    "\n",
    "del obj"
   ]
  },
  {
   "cell_type": "code",
   "execution_count": 10,
   "metadata": {},
   "outputs": [
    {
     "name": "stdout",
     "output_type": "stream",
     "text": [
      "name :  anjan\n",
      "roll :  496\n",
      "name : anjan\n",
      "roll : "
     ]
    },
    {
     "ename": "AttributeError",
     "evalue": "Anjan instance has no attribute '__roll'",
     "output_type": "error",
     "traceback": [
      "\u001b[1;31m---------------------------------------------------------------------------\u001b[0m",
      "\u001b[1;31mAttributeError\u001b[0m                            Traceback (most recent call last)",
      "\u001b[1;32m<ipython-input-10-2b8426879ef7>\u001b[0m in \u001b[0;36m<module>\u001b[1;34m()\u001b[0m\n\u001b[0;32m     15\u001b[0m \u001b[0mobj\u001b[0m\u001b[1;33m.\u001b[0m\u001b[0maccess\u001b[0m\u001b[1;33m(\u001b[0m\u001b[1;33m)\u001b[0m\u001b[1;33m\u001b[0m\u001b[0m\n\u001b[0;32m     16\u001b[0m \u001b[1;32mprint\u001b[0m \u001b[1;34m\"name :\"\u001b[0m\u001b[1;33m,\u001b[0m\u001b[0mobj\u001b[0m\u001b[1;33m.\u001b[0m\u001b[0mname\u001b[0m\u001b[1;33m\u001b[0m\u001b[0m\n\u001b[1;32m---> 17\u001b[1;33m \u001b[1;32mprint\u001b[0m \u001b[1;34m\"roll : \"\u001b[0m\u001b[1;33m,\u001b[0m\u001b[0mobj\u001b[0m\u001b[1;33m.\u001b[0m\u001b[0m__roll\u001b[0m\u001b[1;33m\u001b[0m\u001b[0m\n\u001b[0m",
      "\u001b[1;31mAttributeError\u001b[0m: Anjan instance has no attribute '__roll'"
     ]
    }
   ],
   "source": [
    "# data hiding\n",
    "'''\n",
    "==>> default all attrubutes  with in the are public  so we can  access from any where\n",
    "\n",
    "==>> we can create the private attributes  , so we have the some limitation , so that\n",
    " we can't access outside of the class\n",
    "'''\n",
    "class Anjan():\n",
    "    name = \"anjan\" # public name attribute\n",
    "    __roll  = 496 # private __roll attribute\n",
    "    def access(self):\n",
    "        print \"name : \",self.name\n",
    "        print \"roll : \",self.__roll\n",
    "obj = Anjan()\n",
    "obj.access()\n",
    "print \"name :\",obj.name\n",
    "print \"roll : \",obj.__roll"
   ]
  },
  {
   "cell_type": "code",
   "execution_count": 4,
   "metadata": {},
   "outputs": [
    {
     "name": "stdout",
     "output_type": "stream",
     "text": [
      " name :  anjan\n",
      "roll :  496\n",
      "name : anjan\n",
      "roll :  496\n"
     ]
    }
   ],
   "source": [
    "# data encaplation\n",
    "'''\n",
    "==>> default all attrubutes  with in the are public  so we can  access from any where\n",
    "\n",
    "==>> we can create the private attributes  , so we have the some limitation , so that\n",
    " we can't access outside of the class\n",
    " \n",
    "==>> by using data encapulation we can access outside of class\n",
    "'''\n",
    "class Anjan():\n",
    "    name = \"anjan\" # public name attribute\n",
    "    __roll  = 496 # private __roll attribute\n",
    "    def access(self):\n",
    "        print \"name : \",self.name\n",
    "        print \"roll : \",self.__roll\n",
    "obj = Anjan()\n",
    "obj.access()\n",
    "print \"name :\",obj.name\n",
    "print \"roll : \",obj._Anjan__roll# data encapulation"
   ]
  },
  {
   "cell_type": "code",
   "execution_count": 11,
   "metadata": {},
   "outputs": [
    {
     "name": "stdout",
     "output_type": "stream",
     "text": [
      " newest mathod\n",
      "newest mathod\n"
     ]
    }
   ],
   "source": [
    "# method over roidding \n",
    "'''\n",
    "---> when method names are same then it can overird by newste method\n",
    "'''\n",
    "class Anjan():\n",
    "    def over_rid(self):\n",
    "        print \"oldest method\"\n",
    "    def over_rid(self):\n",
    "        print \"newest mathod\"\n",
    "obj = Anjan()\n",
    "obj.over_rid()\n",
    "obj.over_rid()"
   ]
  },
  {
   "cell_type": "code",
   "execution_count": 13,
   "metadata": {},
   "outputs": [
    {
     "name": "stdout",
     "output_type": "stream",
     "text": [
      "newest mathod\n"
     ]
    },
    {
     "ename": "TypeError",
     "evalue": "over_rid() takes exactly 3 arguments (2 given)",
     "output_type": "error",
     "traceback": [
      "\u001b[1;31m---------------------------------------------------------------------------\u001b[0m",
      "\u001b[1;31mTypeError\u001b[0m                                 Traceback (most recent call last)",
      "\u001b[1;32m<ipython-input-13-6eb3feb48ce1>\u001b[0m in \u001b[0;36m<module>\u001b[1;34m()\u001b[0m\n\u001b[0;32m     10\u001b[0m \u001b[0mobj\u001b[0m \u001b[1;33m=\u001b[0m \u001b[0mAnjan\u001b[0m\u001b[1;33m(\u001b[0m\u001b[1;33m)\u001b[0m\u001b[1;33m\u001b[0m\u001b[0m\n\u001b[0;32m     11\u001b[0m \u001b[0mobj\u001b[0m\u001b[1;33m.\u001b[0m\u001b[0mover_rid\u001b[0m\u001b[1;33m(\u001b[0m\u001b[1;36m10\u001b[0m\u001b[1;33m,\u001b[0m\u001b[1;36m20\u001b[0m\u001b[1;33m)\u001b[0m\u001b[1;33m\u001b[0m\u001b[0m\n\u001b[1;32m---> 12\u001b[1;33m \u001b[0mobj\u001b[0m\u001b[1;33m.\u001b[0m\u001b[0mover_rid\u001b[0m\u001b[1;33m(\u001b[0m\u001b[1;36m34\u001b[0m\u001b[1;33m)\u001b[0m\u001b[1;33m\u001b[0m\u001b[0m\n\u001b[0m",
      "\u001b[1;31mTypeError\u001b[0m: over_rid() takes exactly 3 arguments (2 given)"
     ]
    }
   ],
   "source": [
    "# method over loading \n",
    "'''\n",
    "---> method over loading is not supported \n",
    "'''\n",
    "class Anjan():\n",
    "    def over_rid(self,a):\n",
    "        print \"oldest method\"\n",
    "    def over_rid(self,a,b):\n",
    "        print \"newest mathod\"\n",
    "obj = Anjan()\n",
    "obj.over_rid(10,20)\n",
    "obj.over_rid(34)"
   ]
  },
  {
   "cell_type": "code",
   "execution_count": 14,
   "metadata": {},
   "outputs": [
    {
     "name": "stdout",
     "output_type": "stream",
     "text": [
      "task1\n",
      "task2\n"
     ]
    }
   ],
   "source": [
    "#polymorphis\n",
    "'''\n",
    "===>> A same method can do multiple task\n",
    "'''\n",
    "class Class1():\n",
    "    def poly(self):\n",
    "        print \"task1\"\n",
    "class Class2():\n",
    "    def poly(self):\n",
    "        print \"task2\"\n",
    "obj1 = Class1()\n",
    "obj2 = Class2()\n",
    "obj1.poly()\n",
    "obj2.poly()"
   ]
  },
  {
   "cell_type": "code",
   "execution_count": 17,
   "metadata": {},
   "outputs": [
    {
     "name": "stdout",
     "output_type": "stream",
     "text": [
      "fun2\n",
      "fun1\n"
     ]
    }
   ],
   "source": [
    "# inheritance\n",
    "'''\n",
    "parent class properties we can enquire to another class ( child class)\n",
    "\n",
    "'''\n",
    "class Base_class():\n",
    "    def fun1(self):\n",
    "        print \"fun1\"\n",
    "class Derived_class(Base_class):\n",
    "    def fun2(self):\n",
    "        print \"fun2\"\n",
    "obj =Derived_class()\n",
    "obj.fun2()\n",
    "obj.fun1()"
   ]
  }
 ],
 "metadata": {
  "kernelspec": {
   "display_name": "Python 2",
   "language": "python",
   "name": "python2"
  },
  "language_info": {
   "codemirror_mode": {
    "name": "ipython",
    "version": 2
   },
   "file_extension": ".py",
   "mimetype": "text/x-python",
   "name": "python",
   "nbconvert_exporter": "python",
   "pygments_lexer": "ipython2",
   "version": "2.7.16"
  }
 },
 "nbformat": 4,
 "nbformat_minor": 2
}
