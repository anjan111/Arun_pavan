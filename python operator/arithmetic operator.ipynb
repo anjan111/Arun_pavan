{
 "cells": [
  {
   "cell_type": "code",
   "execution_count": 1,
   "metadata": {},
   "outputs": [
    {
     "name": "stdout",
     "output_type": "stream",
     "text": [
      "-123\n",
      "123\n",
      "False\n",
      "-124\n"
     ]
    }
   ],
   "source": [
    "# unary operator\n",
    "a =123\n",
    "print  -a   # unary minus\n",
    "print  +a   # unary plus\n",
    "print  not a # logical Not\n",
    "print  ~a  # bitwise not"
   ]
  },
  {
   "cell_type": "code",
   "execution_count": 3,
   "metadata": {},
   "outputs": [
    {
     "name": "stdout",
     "output_type": "stream",
     "text": [
      "15\n",
      "11\n"
     ]
    }
   ],
   "source": [
    "# binary operator :-\n",
    "#------------------\n",
    "a =13\n",
    "b =2\n",
    "print a+b  # arithmetic plus\n",
    "print a-b  # arithmetic Minus"
   ]
  },
  {
   "cell_type": "code",
   "execution_count": 7,
   "metadata": {},
   "outputs": [
    {
     "name": "stdout",
     "output_type": "stream",
     "text": [
      "15\n",
      "11\n",
      "26\n",
      "169\n",
      "6\n",
      "6\n",
      "1\n"
     ]
    }
   ],
   "source": [
    "# Arithmtic Operator\n",
    "'''\n",
    "+\n",
    "-\n",
    "*\n",
    "/---->> division\n",
    "% --->> reminder\n",
    "\n",
    "** ---->> power   10 **  3 ---->>> 1000\n",
    "// ---->> 13/2---> 6   ///     13.0 /2 ---->>> 6.5\n",
    "          13//2 --> 6  ////    13.0 // 2 --->>> 6.0\n",
    "'''\n",
    "a = 13\n",
    "b = 2\n",
    "print a+b\n",
    "print a-b\n",
    "print a*b\n",
    "print a**b\n",
    "print a/b\n",
    "print a // b\n",
    "print a%b"
   ]
  },
  {
   "cell_type": "code",
   "execution_count": 8,
   "metadata": {},
   "outputs": [
    {
     "name": "stdout",
     "output_type": "stream",
     "text": [
      "15.0\n",
      "11.0\n",
      "26.0\n",
      "169.0\n",
      "6.5\n",
      "6.0\n",
      "1.0\n"
     ]
    }
   ],
   "source": [
    "a = 13.0\n",
    "b = 2.0\n",
    "print a+b\n",
    "print a-b\n",
    "print a*b\n",
    "print a**b  #### power 13.0   *** 2.0 ---->> 169.0\n",
    "print a/b\n",
    "print a // b\n",
    "print a%b"
   ]
  },
  {
   "cell_type": "code",
   "execution_count": 9,
   "metadata": {},
   "outputs": [
    {
     "name": "stdout",
     "output_type": "stream",
     "text": [
      "enter a side of square in meters : 12\n",
      "area :  144  sq . m \n",
      "peri :  48  meter \n"
     ]
    }
   ],
   "source": [
    "# wap find the area of square and perimeter of it\n",
    "side = input(\"enter a side of square in meters : \")\n",
    "\n",
    "area = side ** 2\n",
    "peri  = 4 * side\n",
    "\n",
    "print \"area : \",area,\" sq . m \"\n",
    "print \"peri : \",peri,\" meter \""
   ]
  },
  {
   "cell_type": "code",
   "execution_count": null,
   "metadata": {},
   "outputs": [],
   "source": [
    "# wap find the area of rectangle  and perimeter of it\n",
    "\n",
    "# wap find the area perimeter of triangle \n",
    "\n",
    "# wap find area and volume of cube  ---->>\n",
    "\n",
    "# wap find area and voume of cylender \n",
    "\n",
    "# wap find the simple intrest  ( p*t*r / 100)\n",
    "\n",
    "# wap convert radians to degrees an well as degrees to radians "
   ]
  }
 ],
 "metadata": {
  "kernelspec": {
   "display_name": "Python 2",
   "language": "python",
   "name": "python2"
  },
  "language_info": {
   "codemirror_mode": {
    "name": "ipython",
    "version": 2
   },
   "file_extension": ".py",
   "mimetype": "text/x-python",
   "name": "python",
   "nbconvert_exporter": "python",
   "pygments_lexer": "ipython2",
   "version": "2.7.16"
  }
 },
 "nbformat": 4,
 "nbformat_minor": 2
}
