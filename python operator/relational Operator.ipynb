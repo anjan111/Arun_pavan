{
 "cells": [
  {
   "cell_type": "code",
   "execution_count": 3,
   "metadata": {},
   "outputs": [
    {
     "name": "stdout",
     "output_type": "stream",
     "text": [
      "enter a : 10\n",
      "enter b : 20\n",
      "10   <   20   is   True\n",
      "10   >   20   is   False\n",
      "10   ==   20   is   False\n",
      "10   !=   20   is   True\n",
      "10   <=   20   is   True\n",
      "10   >=   20   is   False\n"
     ]
    }
   ],
   "source": [
    "#relational operator\n",
    "'''\n",
    "===>>> lessthan      <\n",
    "===>>> greathan      >\n",
    "===>>> equal too    ==\n",
    "===>>> not equal too   !=\n",
    "===>>> lessthan or equal   <=\n",
    "===>>> greaterthan or equal to   >=\n",
    "\n",
    "'''\n",
    "a = input(\"enter a : \")\n",
    "b = input(\"enter b : \")\n",
    "print a, \"  <  \",b,\"  is  \", a <b\n",
    "print a, \"  >  \",b,\"  is  \", a >b\n",
    "print a, \"  ==  \",b,\"  is  \", a ==b\n",
    "print a, \"  !=  \",b,\"  is  \", a !=b\n",
    "print a, \"  <=  \",b,\"  is  \", a <=b\n",
    "print a, \"  >=  \",b,\"  is  \", a >=b"
   ]
  },
  {
   "cell_type": "code",
   "execution_count": 4,
   "metadata": {},
   "outputs": [
    {
     "name": "stdout",
     "output_type": "stream",
     "text": [
      "enter a : 20\n",
      "enter b : 10\n",
      "20   <   10   is   False\n",
      "20   >   10   is   True\n",
      "20   ==   10   is   False\n",
      "20   !=   10   is   True\n",
      "20   <=   10   is   False\n",
      "20   >=   10   is   True\n"
     ]
    }
   ],
   "source": [
    "a = input(\"enter a : \")\n",
    "b = input(\"enter b : \")\n",
    "print a, \"  <  \",b,\"  is  \", a <b\n",
    "print a, \"  >  \",b,\"  is  \", a >b\n",
    "print a, \"  ==  \",b,\"  is  \", a ==b\n",
    "print a, \"  !=  \",b,\"  is  \", a !=b\n",
    "print a, \"  <=  \",b,\"  is  \", a <=b\n",
    "print a, \"  >=  \",b,\"  is  \", a >=b"
   ]
  },
  {
   "cell_type": "code",
   "execution_count": 5,
   "metadata": {},
   "outputs": [
    {
     "name": "stdout",
     "output_type": "stream",
     "text": [
      "enter a : 10\n",
      "enter b : 10\n",
      "10   <   10   is   False\n",
      "10   >   10   is   False\n",
      "10   ==   10   is   True\n",
      "10   !=   10   is   False\n",
      "10   <=   10   is   True\n",
      "10   >=   10   is   True\n"
     ]
    }
   ],
   "source": [
    "a = input(\"enter a : \")\n",
    "b = input(\"enter b : \")\n",
    "print a, \"  <  \",b,\"  is  \", a <b\n",
    "print a, \"  >  \",b,\"  is  \", a >b\n",
    "print a, \"  ==  \",b,\"  is  \", a ==b\n",
    "print a, \"  !=  \",b,\"  is  \", a !=b\n",
    "print a, \"  <=  \",b,\"  is  \", a <=b\n",
    "print a, \"  >=  \",b,\"  is  \", a >=b"
   ]
  },
  {
   "cell_type": "code",
   "execution_count": 9,
   "metadata": {},
   "outputs": [
    {
     "name": "stdout",
     "output_type": "stream",
     "text": [
      "enter num : -89\n",
      "-89  is negative :  True\n"
     ]
    }
   ],
   "source": [
    "# wap find the given input is negative or not\n",
    "num  = input(\"enter num : \")\n",
    "print num,\" is negative : \",num < 0"
   ]
  },
  {
   "cell_type": "code",
   "execution_count": 11,
   "metadata": {},
   "outputs": [
    {
     "name": "stdout",
     "output_type": "stream",
     "text": [
      "enter a number : 46\n",
      "46  is even :  True\n"
     ]
    }
   ],
   "source": [
    "#wap find the given number is even or not\n",
    "# 12 --->>> divisible ---> 12%2 ---> 0 ----> even\n",
    "num = input(\"enter a number : \")\n",
    "print num,\" is even : \", (num %2 == 0)"
   ]
  },
  {
   "cell_type": "code",
   "execution_count": null,
   "metadata": {},
   "outputs": [],
   "source": []
  }
 ],
 "metadata": {
  "kernelspec": {
   "display_name": "Python 2",
   "language": "python",
   "name": "python2"
  },
  "language_info": {
   "codemirror_mode": {
    "name": "ipython",
    "version": 2
   },
   "file_extension": ".py",
   "mimetype": "text/x-python",
   "name": "python",
   "nbconvert_exporter": "python",
   "pygments_lexer": "ipython2",
   "version": "2.7.16"
  }
 },
 "nbformat": 4,
 "nbformat_minor": 2
}
