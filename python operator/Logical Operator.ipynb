{
 "cells": [
  {
   "cell_type": "code",
   "execution_count": 1,
   "metadata": {},
   "outputs": [],
   "source": [
    "# int ---->>> 0--->> False \n",
    "# float --->> 0.0 --> False\n",
    "#None  --->> False\n",
    "# complex --->>  0+0j ---->> False\n",
    "# bool --->>   False ---> False  /   True --->> True\n",
    "# str/list/tuple/set/dict ---->>> len is 0 --->> False\n"
   ]
  },
  {
   "cell_type": "code",
   "execution_count": 2,
   "metadata": {},
   "outputs": [
    {
     "name": "stdout",
     "output_type": "stream",
     "text": [
      "enter a : 4\n",
      "enter b : 5\n",
      "4   and   5   ==>>   5\n"
     ]
    }
   ],
   "source": [
    "### Logical AND  ------>>> and \n",
    "'''\n",
    "===>> inp1   and inp2\n",
    "\n",
    "Res= ===>> inp1 ----->>  when inp1 is False case\n",
    "\n",
    "Res ====>>> inp2 ---->>  when inp1 is True case\n",
    "'''\n",
    "a = input(\"enter a : \")\n",
    "b = input(\"enter b : \")\n",
    "print  a,\"  and  \", b,\"  ==>>  \", a and b"
   ]
  },
  {
   "cell_type": "code",
   "execution_count": 3,
   "metadata": {},
   "outputs": [
    {
     "name": "stdout",
     "output_type": "stream",
     "text": [
      "enter a : 5\n",
      "enter b : 5\n",
      "5   or   5   ==>>   5\n"
     ]
    }
   ],
   "source": [
    "### Logical OR ----->>>>   or\n",
    "\n",
    "'''\n",
    "===>> inp1   or inp2\n",
    "\n",
    "Res= ===>> inp1 ----->>  when inp1 is True case\n",
    "\n",
    "Res ====>>> inp2 ---->>  when inp1 is False case\n",
    "'''\n",
    "a = input(\"enter a : \")\n",
    "b = input(\"enter b : \")\n",
    "print  a,\"  or  \", b,\"  ==>>  \", a or b"
   ]
  },
  {
   "cell_type": "code",
   "execution_count": 4,
   "metadata": {},
   "outputs": [
    {
     "name": "stdout",
     "output_type": "stream",
     "text": [
      "False\n",
      "True\n"
     ]
    }
   ],
   "source": [
    "### Logical NOT   ----->>> not\n",
    "\n",
    "#  not input  \n",
    "'''\n",
    "input --->>> False case --->> then output is ---->> True\n",
    "\n",
    "input ---->> Truce case ---->> then output is ---->> False\n",
    "'''\n",
    "print not 123\n",
    "print not {}"
   ]
  },
  {
   "cell_type": "code",
   "execution_count": 6,
   "metadata": {},
   "outputs": [
    {
     "name": "stdout",
     "output_type": "stream",
     "text": [
      "enter num : 15\n",
      "False\n"
     ]
    }
   ],
   "source": [
    "# wap find a number is divisble by both  4 and 5 or not\n",
    "num = input(\"enter num : \")\n",
    "print  num%4 == 0 and num%5==0"
   ]
  },
  {
   "cell_type": "code",
   "execution_count": 11,
   "metadata": {},
   "outputs": [
    {
     "name": "stdout",
     "output_type": "stream",
     "text": [
      "enter a year : 1800\n",
      "1800  is leap year False\n"
     ]
    }
   ],
   "source": [
    "# wap find a year is leap year or not\n",
    "'''\n",
    "===>> year % 4 ==0 and year%100!=0 or year%400 == 0---->> Leap year\n",
    "# 2004 ---> leap year\n",
    "#  1900 ---->> not leap year\n",
    "#  2000 ---->> leap year\n",
    "'''\n",
    "year =input(\"enter a year : \")\n",
    "print year, \" is leap year\",((year %4 == 0)and (year %100!=0))or (year%400 ==0)"
   ]
  },
  {
   "cell_type": "code",
   "execution_count": 13,
   "metadata": {},
   "outputs": [
    {
     "name": "stdout",
     "output_type": "stream",
     "text": [
      "0b1111\n",
      "21\n"
     ]
    }
   ],
   "source": [
    "# conert from decimal to binary\n",
    "print bin(15)\n",
    "# convert binary to decimal\n",
    "print int(0b10101)"
   ]
  },
  {
   "cell_type": "code",
   "execution_count": 14,
   "metadata": {},
   "outputs": [],
   "source": [
    "# 101110110 --->> decimal \n",
    "\n",
    "# 783  ---->>> binary"
   ]
  },
  {
   "cell_type": "code",
   "execution_count": null,
   "metadata": {},
   "outputs": [],
   "source": [
    "# Bitwise Operator\n",
    "'''\n",
    "====>>> bitwise AND\n",
    "\n",
    "===>>> bitwise OR\n",
    "\n",
    "===>>> Bitwise XOR\n",
    "\n",
    "====>> Bitwise Leftshift\n",
    "\n",
    "====>>> Bitwise Rightshift\n",
    "\n",
    "===>>> Bitwise NOT\n",
    "'''"
   ]
  }
 ],
 "metadata": {
  "kernelspec": {
   "display_name": "Python 2",
   "language": "python",
   "name": "python2"
  },
  "language_info": {
   "codemirror_mode": {
    "name": "ipython",
    "version": 2
   },
   "file_extension": ".py",
   "mimetype": "text/x-python",
   "name": "python",
   "nbconvert_exporter": "python",
   "pygments_lexer": "ipython2",
   "version": "2.7.16"
  }
 },
 "nbformat": 4,
 "nbformat_minor": 2
}
