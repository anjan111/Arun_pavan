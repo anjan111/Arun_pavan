{
 "cells": [
  {
   "cell_type": "code",
   "execution_count": 5,
   "metadata": {},
   "outputs": [
    {
     "name": "stdout",
     "output_type": "stream",
     "text": [
      "enter No of Numbers : 4\n",
      "enter a number 5\n",
      "enter a number 8\n",
      "enter a number 8\n",
      "enter a number 9\n"
     ]
    }
   ],
   "source": [
    "# wap find the factorial of a N of  numbers  and result store in file\n",
    "\n",
    "def factorial(num =None):\n",
    "    if( isinstance(num, int)):\n",
    "        if(num >= 0):\n",
    "            fact = 1\n",
    "            for i in range(2,num+1):\n",
    "                fact = fact*i\n",
    "            else:\n",
    "                return fact\n",
    "        else:\n",
    "            return None\n",
    "    else:\n",
    "        return None\n",
    "def main():\n",
    "    fo = open(\"factorail.csv\",\"w\")\n",
    "    fo.write(\"num,factorial\")\n",
    "    N = input(\"enter No of Numbers : \")\n",
    "    for i in range(N):\n",
    "        num = input(\"enter a number \")\n",
    "        fact = factorial(num)\n",
    "        fo.write(\"\\n\"+str(num)+\",\"+str(fact))\n",
    "    fo.close()\n",
    "if __name__ == \"__main__\":\n",
    "    main()\n",
    "        \n",
    "    \n",
    "    "
   ]
  },
  {
   "cell_type": "code",
   "execution_count": null,
   "metadata": {},
   "outputs": [],
   "source": [
    "# input file --->> which is having all number ===>> read all numbers\n",
    "# then find the factorial for each numbers and then update\n",
    "# output --->> with numner and factorail"
   ]
  },
  {
   "cell_type": "code",
   "execution_count": null,
   "metadata": {},
   "outputs": [],
   "source": []
  },
  {
   "cell_type": "code",
   "execution_count": null,
   "metadata": {},
   "outputs": [],
   "source": []
  },
  {
   "cell_type": "code",
   "execution_count": null,
   "metadata": {},
   "outputs": [],
   "source": []
  }
 ],
 "metadata": {
  "kernelspec": {
   "display_name": "Python 2",
   "language": "python",
   "name": "python2"
  },
  "language_info": {
   "codemirror_mode": {
    "name": "ipython",
    "version": 2
   },
   "file_extension": ".py",
   "mimetype": "text/x-python",
   "name": "python",
   "nbconvert_exporter": "python",
   "pygments_lexer": "ipython2",
   "version": "2.7.16"
  }
 },
 "nbformat": 4,
 "nbformat_minor": 2
}
