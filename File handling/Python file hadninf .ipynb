{
 "cells": [
  {
   "cell_type": "markdown",
   "metadata": {},
   "source": [
    "# file \n",
    "\n",
    "===>>> It is a part of the storage device \n",
    "\n",
    "===>>> Files always store related information\n",
    "\n",
    "# types \n",
    "\n",
    "1. text file ===>> alphanumrical data ===>> .txt /.c  \n",
    "\n",
    "2. binary file===>> 0 ,1 ===>> image, video, exe\n",
    "\n",
    "# file operation\n",
    "\n",
    "==>>>  create a file\n",
    "\n",
    "==>>   open the file \n",
    "\n",
    "==>>   write a file\n",
    "\n",
    "==>>   reading\n",
    "\n",
    "==>>  close\n",
    "\n",
    "### Python file handing \n",
    "\n",
    "===>> file object is created by open()\n",
    "\n",
    "===>> to create a new file / open a existing file\n",
    "\n",
    "===>> read()\n",
    "\n",
    "===>> readline()\n",
    "\n",
    "===>> readlines()\n",
    "\n",
    "===>> write()\n",
    "\n",
    "===>> close()"
   ]
  },
  {
   "cell_type": "code",
   "execution_count": 4,
   "metadata": {},
   "outputs": [
    {
     "name": "stdout",
     "output_type": "stream",
     "text": [
      "enter writing data : \"anjan kumar\"\n"
     ]
    }
   ],
   "source": [
    "# file_obj = open(\"filename\",\"mode\")\n",
    "'''\n",
    "write  :\n",
    "\n",
    "    w  ---->> only for writing \n",
    "    \n",
    "    w+  ---->> reading + writing \n",
    "\n",
    "read   :\n",
    "\n",
    "    r  ---->> only for reading\n",
    "    \n",
    "    r+  --->> reading + writing \n",
    "\n",
    "append :\n",
    "\n",
    "    a  ---->> only for appending \n",
    "    \n",
    "    a+  ---->> appending+ reading \n",
    "'''\n",
    "# wap for understanfin write mode\n",
    "'''\n",
    "w ===>> file is not existed then create a new file \n",
    "  ===>> read/ readline/ readlines methods not supported\n",
    "  ===>> file is existed with some data then file data can lost\n",
    "  \n",
    "  \n",
    "'''\n",
    "fo = open(\"sample.txt\",\"w\")\n",
    "#fo.read()\n",
    "data = input(\"enter writing data : \")\n",
    "fo.write(data)\n",
    "fo.close()"
   ]
  },
  {
   "cell_type": "code",
   "execution_count": 6,
   "metadata": {},
   "outputs": [
    {
     "name": "stdout",
     "output_type": "stream",
     "text": [
      "enter writing data : \"data lost\"\n"
     ]
    }
   ],
   "source": [
    "'''\n",
    "w+ ===>> file is not existed then create a new file \n",
    "  ===>> read/ readline/ readlines methods  supported\n",
    "  ===>> file is existed with some data then file data can lost\n",
    "  \n",
    "  \n",
    "'''\n",
    "fo = open(\"sample1.txt\",\"w+\")\n",
    "data = input(\"enter writing data : \")\n",
    "fo.write(data)\n",
    "fo.close()"
   ]
  },
  {
   "cell_type": "code",
   "execution_count": 10,
   "metadata": {},
   "outputs": [
    {
     "name": "stdout",
     "output_type": "stream",
     "text": [
      "anjan kumar\n"
     ]
    }
   ],
   "source": [
    "# read \n",
    "'''\n",
    "r --->> file is not existed then its error\n",
    "    ->> file is existed with some daata then open successfully , data can safe4\n",
    "    --> write method is not supported \n",
    "'''\n",
    "\n",
    "fo = open(\"sample.txt\",\"r\")\n",
    "data = fo.read()\n",
    "#data = input(\"enter writing data : \")\n",
    "#fo.write(data)\n",
    "print data\n",
    "fo.close()"
   ]
  },
  {
   "cell_type": "code",
   "execution_count": 16,
   "metadata": {},
   "outputs": [
    {
     "name": "stdout",
     "output_type": "stream",
     "text": [
      "hello\n",
      "enter writing data : 'a'\n"
     ]
    },
    {
     "ename": "IOError",
     "evalue": "[Errno 0] Error",
     "output_type": "error",
     "traceback": [
      "\u001b[1;31m---------------------------------------------------------------------------\u001b[0m",
      "\u001b[1;31mIOError\u001b[0m                                   Traceback (most recent call last)",
      "\u001b[1;32m<ipython-input-16-93cbd762b07b>\u001b[0m in \u001b[0;36m<module>\u001b[1;34m()\u001b[0m\n\u001b[0;32m      9\u001b[0m \u001b[1;32mprint\u001b[0m \u001b[0mdata\u001b[0m\u001b[1;33m\u001b[0m\u001b[0m\n\u001b[0;32m     10\u001b[0m \u001b[0mdata\u001b[0m \u001b[1;33m=\u001b[0m \u001b[0minput\u001b[0m\u001b[1;33m(\u001b[0m\u001b[1;34m\"enter writing data : \"\u001b[0m\u001b[1;33m)\u001b[0m\u001b[1;33m\u001b[0m\u001b[0m\n\u001b[1;32m---> 11\u001b[1;33m \u001b[0mfo\u001b[0m\u001b[1;33m.\u001b[0m\u001b[0mwrite\u001b[0m\u001b[1;33m(\u001b[0m\u001b[0mdata\u001b[0m\u001b[1;33m)\u001b[0m\u001b[1;33m\u001b[0m\u001b[0m\n\u001b[0m\u001b[0;32m     12\u001b[0m \u001b[1;32mprint\u001b[0m \u001b[0mdata\u001b[0m\u001b[1;33m\u001b[0m\u001b[0m\n\u001b[0;32m     13\u001b[0m \u001b[0mfo\u001b[0m\u001b[1;33m.\u001b[0m\u001b[0mclose\u001b[0m\u001b[1;33m(\u001b[0m\u001b[1;33m)\u001b[0m\u001b[1;33m\u001b[0m\u001b[0m\n",
      "\u001b[1;31mIOError\u001b[0m: [Errno 0] Error"
     ]
    }
   ],
   "source": [
    "'''\n",
    "r+ --->> file is not existed then its error\n",
    "    ->> file is existed with some daata then open successfully , data can safe4\n",
    "    --> write method is supported \n",
    "'''\n",
    "\n",
    "fo = open(\"sam.txt\",\"r+\")\n",
    "data = fo.read()\n",
    "print data\n",
    "data = input(\"enter writing data : \")\n",
    "fo.write(data)\n",
    "print data\n",
    "fo.close()"
   ]
  },
  {
   "cell_type": "code",
   "execution_count": 21,
   "metadata": {},
   "outputs": [
    {
     "name": "stdout",
     "output_type": "stream",
     "text": [
      "enter writing data : \"hello\"\n",
      "hello\n"
     ]
    }
   ],
   "source": [
    "# append \n",
    "\n",
    "'''\n",
    "a  --->> file is not existed then create the new file\n",
    "    -->> file is existed then open and apped at end of the file\n",
    "         data with in the file is safe\n",
    "    ---> read/ readline / readlines is not supported \n",
    "'''\n",
    "fo = open(\"sam1.txt\",\"a\")\n",
    "#fo.read()\n",
    "data = input(\"enter writing data : \")\n",
    "fo.write(data)\n",
    "print data\n",
    "fo.close()\n"
   ]
  },
  {
   "cell_type": "code",
   "execution_count": 23,
   "metadata": {},
   "outputs": [
    {
     "name": "stdout",
     "output_type": "stream",
     "text": [
      "djfj\n",
      "enter writing data : \"123434\"\n"
     ]
    },
    {
     "ename": "IOError",
     "evalue": "[Errno 0] Error",
     "output_type": "error",
     "traceback": [
      "\u001b[1;31m---------------------------------------------------------------------------\u001b[0m",
      "\u001b[1;31mIOError\u001b[0m                                   Traceback (most recent call last)",
      "\u001b[1;32m<ipython-input-23-2d6d5f2b3734>\u001b[0m in \u001b[0;36m<module>\u001b[1;34m()\u001b[0m\n\u001b[0;32m      8\u001b[0m \u001b[1;32mprint\u001b[0m \u001b[0mfo\u001b[0m\u001b[1;33m.\u001b[0m\u001b[0mread\u001b[0m\u001b[1;33m(\u001b[0m\u001b[1;33m)\u001b[0m\u001b[1;33m\u001b[0m\u001b[0m\n\u001b[0;32m      9\u001b[0m \u001b[0mdata\u001b[0m \u001b[1;33m=\u001b[0m \u001b[0minput\u001b[0m\u001b[1;33m(\u001b[0m\u001b[1;34m\"enter writing data : \"\u001b[0m\u001b[1;33m)\u001b[0m\u001b[1;33m\u001b[0m\u001b[0m\n\u001b[1;32m---> 10\u001b[1;33m \u001b[0mfo\u001b[0m\u001b[1;33m.\u001b[0m\u001b[0mwrite\u001b[0m\u001b[1;33m(\u001b[0m\u001b[0mdata\u001b[0m\u001b[1;33m)\u001b[0m\u001b[1;33m\u001b[0m\u001b[0m\n\u001b[0m\u001b[0;32m     11\u001b[0m \u001b[1;32mprint\u001b[0m \u001b[0mdata\u001b[0m\u001b[1;33m\u001b[0m\u001b[0m\n\u001b[0;32m     12\u001b[0m \u001b[0mfo\u001b[0m\u001b[1;33m.\u001b[0m\u001b[0mclose\u001b[0m\u001b[1;33m(\u001b[0m\u001b[1;33m)\u001b[0m\u001b[1;33m\u001b[0m\u001b[0m\n",
      "\u001b[1;31mIOError\u001b[0m: [Errno 0] Error"
     ]
    }
   ],
   "source": [
    "'''\n",
    "a+  --->> file is not existed then create the new file\n",
    "    -->> file is existed then open and apped at end of the file\n",
    "         data with in the file is safe\n",
    "    ---> read/ readline / readlines is not supported \n",
    "'''\n",
    "fo = open(\"sam3.txt\",\"a+\")\n",
    "print fo.read()\n",
    "data = input(\"enter writing data : \")\n",
    "fo.write(data)\n",
    "print data\n",
    "fo.close()"
   ]
  },
  {
   "cell_type": "code",
   "execution_count": null,
   "metadata": {},
   "outputs": [],
   "source": []
  },
  {
   "cell_type": "code",
   "execution_count": null,
   "metadata": {},
   "outputs": [],
   "source": []
  },
  {
   "cell_type": "code",
   "execution_count": null,
   "metadata": {},
   "outputs": [],
   "source": []
  },
  {
   "cell_type": "code",
   "execution_count": null,
   "metadata": {},
   "outputs": [],
   "source": []
  },
  {
   "cell_type": "code",
   "execution_count": null,
   "metadata": {},
   "outputs": [],
   "source": []
  },
  {
   "cell_type": "code",
   "execution_count": null,
   "metadata": {},
   "outputs": [],
   "source": []
  },
  {
   "cell_type": "code",
   "execution_count": null,
   "metadata": {},
   "outputs": [],
   "source": []
  },
  {
   "cell_type": "code",
   "execution_count": null,
   "metadata": {},
   "outputs": [],
   "source": []
  }
 ],
 "metadata": {
  "kernelspec": {
   "display_name": "Python 2",
   "language": "python",
   "name": "python2"
  },
  "language_info": {
   "codemirror_mode": {
    "name": "ipython",
    "version": 2
   },
   "file_extension": ".py",
   "mimetype": "text/x-python",
   "name": "python",
   "nbconvert_exporter": "python",
   "pygments_lexer": "ipython2",
   "version": "2.7.16"
  }
 },
 "nbformat": 4,
 "nbformat_minor": 2
}
