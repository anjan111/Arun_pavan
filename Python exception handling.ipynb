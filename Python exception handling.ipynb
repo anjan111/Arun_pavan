{
 "cells": [
  {
   "cell_type": "markdown",
   "metadata": {},
   "source": [
    "## Error\n",
    "\n",
    "===>>>  A Mistake with in the program\n",
    "\n",
    "## Types of error\n",
    "\n",
    "===>>> syntax error\n",
    "\n",
    "=========>>> The errors  we can because of if you not follow the structure\n",
    "\n",
    "\n",
    "===>> Run time error\n",
    "\n",
    "========>>> while execution of the program we can get some errors-->> run time error\n",
    "\n",
    "## exception\n",
    "\n",
    "===>>> Runtime errors are stops the program execution in middle \n",
    "\n",
    "## How we can handle the exception\n",
    "\n",
    "\n",
    "===>>> try  , except,else, finally, raise"
   ]
  },
  {
   "cell_type": "code",
   "execution_count": 2,
   "metadata": {},
   "outputs": [
    {
     "ename": "SyntaxError",
     "evalue": "EOL while scanning string literal (<ipython-input-2-feeac52aa472>, line 2)",
     "output_type": "error",
     "traceback": [
      "\u001b[1;36m  File \u001b[1;32m\"<ipython-input-2-feeac52aa472>\"\u001b[1;36m, line \u001b[1;32m2\u001b[0m\n\u001b[1;33m    print \"hai'\u001b[0m\n\u001b[1;37m              ^\u001b[0m\n\u001b[1;31mSyntaxError\u001b[0m\u001b[1;31m:\u001b[0m EOL while scanning string literal\n"
     ]
    }
   ],
   "source": [
    "print \"hello\"\n",
    "print \"hai'\n",
    "print \"bye\""
   ]
  },
  {
   "cell_type": "code",
   "execution_count": 4,
   "metadata": {},
   "outputs": [
    {
     "ename": "SyntaxError",
     "evalue": "invalid syntax (<ipython-input-4-827f932982d5>, line 1)",
     "output_type": "error",
     "traceback": [
      "\u001b[1;36m  File \u001b[1;32m\"<ipython-input-4-827f932982d5>\"\u001b[1;36m, line \u001b[1;32m1\u001b[0m\n\u001b[1;33m    if ( True)\u001b[0m\n\u001b[1;37m              ^\u001b[0m\n\u001b[1;31mSyntaxError\u001b[0m\u001b[1;31m:\u001b[0m invalid syntax\n"
     ]
    }
   ],
   "source": [
    "if ( True)\n",
    "    print \"hello\"\n",
    "    print \"hai\""
   ]
  },
  {
   "cell_type": "code",
   "execution_count": 6,
   "metadata": {},
   "outputs": [
    {
     "ename": "SyntaxError",
     "evalue": "invalid syntax (<ipython-input-6-c1af02edb479>, line 1)",
     "output_type": "error",
     "traceback": [
      "\u001b[1;36m  File \u001b[1;32m\"<ipython-input-6-c1af02edb479>\"\u001b[1;36m, line \u001b[1;32m1\u001b[0m\n\u001b[1;33m    if ( True :\u001b[0m\n\u001b[1;37m              ^\u001b[0m\n\u001b[1;31mSyntaxError\u001b[0m\u001b[1;31m:\u001b[0m invalid syntax\n"
     ]
    }
   ],
   "source": [
    "if ( True :\n",
    "    print \"hello\"\n",
    "    print \"hai\""
   ]
  },
  {
   "cell_type": "code",
   "execution_count": 8,
   "metadata": {},
   "outputs": [
    {
     "name": "stdout",
     "output_type": "stream",
     "text": [
      "hello\n"
     ]
    },
    {
     "ename": "ZeroDivisionError",
     "evalue": "integer division or modulo by zero",
     "output_type": "error",
     "traceback": [
      "\u001b[1;31m---------------------------------------------------------------------------\u001b[0m",
      "\u001b[1;31mZeroDivisionError\u001b[0m                         Traceback (most recent call last)",
      "\u001b[1;32m<ipython-input-8-e121b8fe79f0>\u001b[0m in \u001b[0;36m<module>\u001b[1;34m()\u001b[0m\n\u001b[0;32m      1\u001b[0m \u001b[1;32mprint\u001b[0m \u001b[1;34m\"hello\"\u001b[0m\u001b[1;33m\u001b[0m\u001b[0m\n\u001b[1;32m----> 2\u001b[1;33m \u001b[1;32mprint\u001b[0m \u001b[1;36m12\u001b[0m\u001b[1;33m/\u001b[0m\u001b[1;36m0\u001b[0m\u001b[1;33m\u001b[0m\u001b[0m\n\u001b[0m\u001b[0;32m      3\u001b[0m \u001b[1;32mprint\u001b[0m \u001b[1;34m\"hai\"\u001b[0m\u001b[1;33m\u001b[0m\u001b[0m\n",
      "\u001b[1;31mZeroDivisionError\u001b[0m: integer division or modulo by zero"
     ]
    }
   ],
   "source": [
    "print \"hello\"\n",
    "print 12/0\n",
    "print \"hai\""
   ]
  },
  {
   "cell_type": "code",
   "execution_count": 10,
   "metadata": {},
   "outputs": [
    {
     "name": "stdout",
     "output_type": "stream",
     "text": [
      "hello\n"
     ]
    },
    {
     "ename": "IOError",
     "evalue": "[Errno 2] No such file or directory: 'sdbbjd'",
     "output_type": "error",
     "traceback": [
      "\u001b[1;31m---------------------------------------------------------------------------\u001b[0m",
      "\u001b[1;31mIOError\u001b[0m                                   Traceback (most recent call last)",
      "\u001b[1;32m<ipython-input-10-bfd25e809834>\u001b[0m in \u001b[0;36m<module>\u001b[1;34m()\u001b[0m\n\u001b[0;32m      1\u001b[0m \u001b[1;32mprint\u001b[0m \u001b[1;34m\"hello\"\u001b[0m\u001b[1;33m\u001b[0m\u001b[0m\n\u001b[1;32m----> 2\u001b[1;33m \u001b[0mopen\u001b[0m\u001b[1;33m(\u001b[0m\u001b[1;34m\"sdbbjd\"\u001b[0m\u001b[1;33m,\u001b[0m\u001b[1;34m\"r\"\u001b[0m\u001b[1;33m)\u001b[0m\u001b[1;33m\u001b[0m\u001b[0m\n\u001b[0m\u001b[0;32m      3\u001b[0m \u001b[1;32mprint\u001b[0m \u001b[1;34m\"hai\"\u001b[0m\u001b[1;33m\u001b[0m\u001b[0m\n",
      "\u001b[1;31mIOError\u001b[0m: [Errno 2] No such file or directory: 'sdbbjd'"
     ]
    }
   ],
   "source": [
    "print \"hello\"\n",
    "open(\"sdbbjd\",\"r\")\n",
    "print \"hai\""
   ]
  },
  {
   "cell_type": "code",
   "execution_count": 12,
   "metadata": {},
   "outputs": [
    {
     "name": "stdout",
     "output_type": "stream",
     "text": [
      "hello\n"
     ]
    },
    {
     "ename": "ImportError",
     "evalue": "No module named kfkfjffjkfhs",
     "output_type": "error",
     "traceback": [
      "\u001b[1;31m---------------------------------------------------------------------------\u001b[0m",
      "\u001b[1;31mImportError\u001b[0m                               Traceback (most recent call last)",
      "\u001b[1;32m<ipython-input-12-8d127a251394>\u001b[0m in \u001b[0;36m<module>\u001b[1;34m()\u001b[0m\n\u001b[0;32m      1\u001b[0m \u001b[1;32mprint\u001b[0m \u001b[1;34m\"hello\"\u001b[0m\u001b[1;33m\u001b[0m\u001b[0m\n\u001b[1;32m----> 2\u001b[1;33m \u001b[1;32mimport\u001b[0m \u001b[0mkfkfjffjkfhs\u001b[0m\u001b[1;33m\u001b[0m\u001b[0m\n\u001b[0m\u001b[0;32m      3\u001b[0m \u001b[1;32mprint\u001b[0m \u001b[1;34m\"hai\"\u001b[0m\u001b[1;33m\u001b[0m\u001b[0m\n",
      "\u001b[1;31mImportError\u001b[0m: No module named kfkfjffjkfhs"
     ]
    }
   ],
   "source": [
    "print \"hello\"\n",
    "import kfkfjffjkfhs\n",
    "print \"hai\""
   ]
  },
  {
   "cell_type": "code",
   "execution_count": 13,
   "metadata": {},
   "outputs": [
    {
     "name": "stdout",
     "output_type": "stream",
     "text": [
      "hello\n"
     ]
    },
    {
     "ename": "ValueError",
     "evalue": "invalid literal for int() with base 10: '34.455'",
     "output_type": "error",
     "traceback": [
      "\u001b[1;31m---------------------------------------------------------------------------\u001b[0m",
      "\u001b[1;31mValueError\u001b[0m                                Traceback (most recent call last)",
      "\u001b[1;32m<ipython-input-13-e80b458862e2>\u001b[0m in \u001b[0;36m<module>\u001b[1;34m()\u001b[0m\n\u001b[0;32m      1\u001b[0m \u001b[1;32mprint\u001b[0m \u001b[1;34m\"hello\"\u001b[0m\u001b[1;33m\u001b[0m\u001b[0m\n\u001b[1;32m----> 2\u001b[1;33m \u001b[1;32mprint\u001b[0m \u001b[0mint\u001b[0m\u001b[1;33m(\u001b[0m\u001b[1;34m\"34.455\"\u001b[0m\u001b[1;33m)\u001b[0m\u001b[1;33m\u001b[0m\u001b[0m\n\u001b[0m\u001b[0;32m      3\u001b[0m \u001b[1;32mprint\u001b[0m \u001b[1;34m\"hai\"\u001b[0m\u001b[1;33m\u001b[0m\u001b[0m\n",
      "\u001b[1;31mValueError\u001b[0m: invalid literal for int() with base 10: '34.455'"
     ]
    }
   ],
   "source": [
    "print \"hello\"\n",
    "print int(\"34.455\")\n",
    "print \"hai\""
   ]
  },
  {
   "cell_type": "code",
   "execution_count": 15,
   "metadata": {},
   "outputs": [
    {
     "name": "stdout",
     "output_type": "stream",
     "text": [
      "hello\n"
     ]
    },
    {
     "ename": "TypeError",
     "evalue": "can't convert complex to int",
     "output_type": "error",
     "traceback": [
      "\u001b[1;31m---------------------------------------------------------------------------\u001b[0m",
      "\u001b[1;31mTypeError\u001b[0m                                 Traceback (most recent call last)",
      "\u001b[1;32m<ipython-input-15-d6a9aa419be3>\u001b[0m in \u001b[0;36m<module>\u001b[1;34m()\u001b[0m\n\u001b[0;32m      1\u001b[0m \u001b[1;32mprint\u001b[0m \u001b[1;34m\"hello\"\u001b[0m\u001b[1;33m\u001b[0m\u001b[0m\n\u001b[1;32m----> 2\u001b[1;33m \u001b[1;32mprint\u001b[0m \u001b[0mint\u001b[0m\u001b[1;33m(\u001b[0m\u001b[1;36m3\u001b[0m\u001b[1;33m+\u001b[0m\u001b[1;36m5j\u001b[0m\u001b[1;33m)\u001b[0m\u001b[1;33m\u001b[0m\u001b[0m\n\u001b[0m\u001b[0;32m      3\u001b[0m \u001b[1;32mprint\u001b[0m \u001b[1;34m\"hai\"\u001b[0m\u001b[1;33m\u001b[0m\u001b[0m\n",
      "\u001b[1;31mTypeError\u001b[0m: can't convert complex to int"
     ]
    }
   ],
   "source": [
    "print \"hello\"\n",
    "print int(3+5j)\n",
    "print \"hai\""
   ]
  },
  {
   "cell_type": "code",
   "execution_count": 18,
   "metadata": {},
   "outputs": [
    {
     "name": "stdout",
     "output_type": "stream",
     "text": [
      "hello\n"
     ]
    },
    {
     "ename": "KeyError",
     "evalue": "1",
     "output_type": "error",
     "traceback": [
      "\u001b[1;31m---------------------------------------------------------------------------\u001b[0m",
      "\u001b[1;31mKeyError\u001b[0m                                  Traceback (most recent call last)",
      "\u001b[1;32m<ipython-input-18-8bc7fd87de68>\u001b[0m in \u001b[0;36m<module>\u001b[1;34m()\u001b[0m\n\u001b[0;32m      1\u001b[0m \u001b[0ma\u001b[0m \u001b[1;33m=\u001b[0m \u001b[1;33m{\u001b[0m\u001b[1;36m12\u001b[0m\u001b[1;33m:\u001b[0m\u001b[1;36m34\u001b[0m\u001b[1;33m,\u001b[0m\u001b[1;36m23\u001b[0m\u001b[1;33m:\u001b[0m\u001b[1;34m\"dc\"\u001b[0m\u001b[1;33m}\u001b[0m\u001b[1;33m\u001b[0m\u001b[0m\n\u001b[0;32m      2\u001b[0m \u001b[1;32mprint\u001b[0m \u001b[1;34m\"hello\"\u001b[0m\u001b[1;33m\u001b[0m\u001b[0m\n\u001b[1;32m----> 3\u001b[1;33m \u001b[1;32mprint\u001b[0m \u001b[0ma\u001b[0m\u001b[1;33m[\u001b[0m\u001b[1;36m1\u001b[0m\u001b[1;33m]\u001b[0m\u001b[1;33m\u001b[0m\u001b[0m\n\u001b[0m\u001b[0;32m      4\u001b[0m \u001b[1;32mprint\u001b[0m \u001b[1;34m\"hai\"\u001b[0m\u001b[1;33m\u001b[0m\u001b[0m\n",
      "\u001b[1;31mKeyError\u001b[0m: 1"
     ]
    }
   ],
   "source": [
    "a = {12:34,23:\"dc\"}\n",
    "print \"hello\"\n",
    "print a[1]\n",
    "print \"hai\""
   ]
  },
  {
   "cell_type": "code",
   "execution_count": 19,
   "metadata": {},
   "outputs": [
    {
     "name": "stdout",
     "output_type": "stream",
     "text": [
      "hello\n"
     ]
    },
    {
     "ename": "NameError",
     "evalue": "name 'anjan' is not defined",
     "output_type": "error",
     "traceback": [
      "\u001b[1;31m---------------------------------------------------------------------------\u001b[0m",
      "\u001b[1;31mNameError\u001b[0m                                 Traceback (most recent call last)",
      "\u001b[1;32m<ipython-input-19-ba1a8f518ea9>\u001b[0m in \u001b[0;36m<module>\u001b[1;34m()\u001b[0m\n\u001b[0;32m      1\u001b[0m \u001b[1;32mprint\u001b[0m \u001b[1;34m\"hello\"\u001b[0m\u001b[1;33m\u001b[0m\u001b[0m\n\u001b[1;32m----> 2\u001b[1;33m \u001b[1;32mprint\u001b[0m \u001b[0manjan\u001b[0m\u001b[1;33m\u001b[0m\u001b[0m\n\u001b[0m\u001b[0;32m      3\u001b[0m \u001b[1;32mprint\u001b[0m \u001b[1;34m\"hai\"\u001b[0m\u001b[1;33m\u001b[0m\u001b[0m\n",
      "\u001b[1;31mNameError\u001b[0m: name 'anjan' is not defined"
     ]
    }
   ],
   "source": [
    "print \"hello\"\n",
    "print anjan\n",
    "print \"hai\""
   ]
  },
  {
   "cell_type": "code",
   "execution_count": 21,
   "metadata": {},
   "outputs": [
    {
     "name": "stdout",
     "output_type": "stream",
     "text": [
      "hello\n",
      "i got exception but i handle it \n"
     ]
    }
   ],
   "source": [
    "try:\n",
    "    print \"hello\"\n",
    "    print 12/0\n",
    "    print \"hai\"\n",
    "except:\n",
    "    print \"i got exception but i handle it \""
   ]
  },
  {
   "cell_type": "code",
   "execution_count": 22,
   "metadata": {},
   "outputs": [
    {
     "name": "stdout",
     "output_type": "stream",
     "text": [
      "hello\n",
      "i got exception but i handle it \n"
     ]
    }
   ],
   "source": [
    "try:\n",
    "    print \"hello\"\n",
    "    import fkjnfdjvbdfjvhf\n",
    "    print \"hai\"\n",
    "except:\n",
    "    print \"i got exception but i handle it \""
   ]
  },
  {
   "cell_type": "code",
   "execution_count": 24,
   "metadata": {},
   "outputs": [
    {
     "name": "stdout",
     "output_type": "stream",
     "text": [
      "hello\n",
      "Import Exception handler\n"
     ]
    }
   ],
   "source": [
    "try:\n",
    "    print \"hello\"\n",
    "    import fkjnfdjvbdfjvhf\n",
    "    print \"hai\"\n",
    "except ImportError:\n",
    "    print \"Import Exception handler\"\n",
    "except ValueError:\n",
    "    print \"Value error exception handler\"\n",
    "except IOError:\n",
    "    print \"File related exception handler\"\n",
    "except NameError:\n",
    "    print\"Name error related hablder\"\n",
    "except  TypeError:\n",
    "    print \"Type Error Exception\"\n",
    "except:\n",
    "    print \"default exception \""
   ]
  },
  {
   "cell_type": "code",
   "execution_count": 25,
   "metadata": {},
   "outputs": [
    {
     "name": "stdout",
     "output_type": "stream",
     "text": [
      "hello\n",
      "File related exception handler\n"
     ]
    }
   ],
   "source": [
    "try:\n",
    "    print \"hello\"\n",
    "    open(\"jfdjkdf\",\"r\")\n",
    "    print \"hai\"\n",
    "except ImportError:\n",
    "    print \"Import Exception handler\"\n",
    "except ValueError:\n",
    "    print \"Value error exception handler\"\n",
    "except IOError:\n",
    "    print \"File related exception handler\"\n",
    "except NameError:\n",
    "    print\"Name error related hablder\"\n",
    "except  TypeError:\n",
    "    print \"Type Error Exception\"\n",
    "except:\n",
    "    print \"default exception \""
   ]
  },
  {
   "cell_type": "code",
   "execution_count": 26,
   "metadata": {},
   "outputs": [
    {
     "name": "stdout",
     "output_type": "stream",
     "text": [
      "hello\n",
      "Type Error Exception\n"
     ]
    }
   ],
   "source": [
    "try:\n",
    "    print \"hello\"\n",
    "    int(5+5j)\n",
    "    print \"hai\"\n",
    "except ImportError:\n",
    "    print \"Import Exception handler\"\n",
    "except ValueError:\n",
    "    print \"Value error exception handler\"\n",
    "except IOError:\n",
    "    print \"File related exception handler\"\n",
    "except NameError:\n",
    "    print\"Name error related hablder\"\n",
    "except  TypeError:\n",
    "    print \"Type Error Exception\"\n",
    "except:\n",
    "    print \"default exception \""
   ]
  },
  {
   "cell_type": "code",
   "execution_count": 28,
   "metadata": {},
   "outputs": [
    {
     "name": "stdout",
     "output_type": "stream",
     "text": [
      "hello\n",
      "default exception \n"
     ]
    }
   ],
   "source": [
    "try:\n",
    "    print \"hello\"\n",
    "    print  21/0\n",
    "    print \"hai\"\n",
    "except ImportError:\n",
    "    print \"Import Exception handler\"\n",
    "except ValueError:\n",
    "    print \"Value error exception handler\"\n",
    "except IOError:\n",
    "    print \"File related exception handler\"\n",
    "except NameError:\n",
    "    print\"Name error related hablder\"\n",
    "except  TypeError:\n",
    "    print \"Type Error Exception\"\n",
    "except:\n",
    "    print \"default exception \""
   ]
  },
  {
   "cell_type": "code",
   "execution_count": 30,
   "metadata": {},
   "outputs": [
    {
     "name": "stdout",
     "output_type": "stream",
     "text": [
      "hello\n",
      "Zero division  exception\n"
     ]
    }
   ],
   "source": [
    "try:\n",
    "    print \"hello\"\n",
    "    print  21/0\n",
    "    print \"hai\"\n",
    "except ImportError:\n",
    "    print \"Import Exception handler\"\n",
    "except ValueError:\n",
    "    print \"Value error exception handler\"\n",
    "except IOError:\n",
    "    print \"File related exception handler\"\n",
    "except NameError:\n",
    "    print\"Name error related hablder\"\n",
    "except  TypeError:\n",
    "    print \"Type Error Exception\"\n",
    "except ZeroDivisionError:\n",
    "    print \"Zero division  exception\"\n",
    "except:\n",
    "    print \"default exception \""
   ]
  },
  {
   "cell_type": "code",
   "execution_count": 34,
   "metadata": {},
   "outputs": [
    {
     "name": "stdout",
     "output_type": "stream",
     "text": [
      "hello\n",
      "hai\n",
      "hai\n",
      "No exception\n",
      "Both cases\n"
     ]
    }
   ],
   "source": [
    "try:\n",
    "    print \"hello\"\n",
    "    print  \"hai\"\n",
    "    print \"hai\"\n",
    "except ImportError:\n",
    "    print \"Import Exception handler\"\n",
    "except ValueError:\n",
    "    print \"Value error exception handler\"\n",
    "except IOError:\n",
    "    print \"File related exception handler\"\n",
    "except NameError:\n",
    "    print\"Name error related hablder\"\n",
    "except  TypeError:\n",
    "    print \"Type Error Exception\"\n",
    "except:\n",
    "    print \"default exception \"\n",
    "else:\n",
    "    print \"No exception\"\n",
    "finally:\n",
    "    print \"Both cases\""
   ]
  },
  {
   "cell_type": "code",
   "execution_count": 36,
   "metadata": {},
   "outputs": [
    {
     "name": "stdout",
     "output_type": "stream",
     "text": [
      "hello\n",
      "default exception \n",
      "Both cases\n"
     ]
    }
   ],
   "source": [
    "try:\n",
    "    print \"hello\"\n",
    "    print  12/0\n",
    "    print \"hai\"\n",
    "except ImportError:\n",
    "    print \"Import Exception handler\"\n",
    "except ValueError:\n",
    "    print \"Value error exception handler\"\n",
    "except IOError:\n",
    "    print \"File related exception handler\"\n",
    "except NameError:\n",
    "    print\"Name error related hablder\"\n",
    "except  TypeError:\n",
    "    print \"Type Error Exception\"\n",
    "except:\n",
    "    print \"default exception \"\n",
    "else:\n",
    "    print \"No exception\"\n",
    "finally:\n",
    "    print \"Both cases\""
   ]
  },
  {
   "cell_type": "code",
   "execution_count": 38,
   "metadata": {},
   "outputs": [
    {
     "name": "stdout",
     "output_type": "stream",
     "text": [
      "hello\n",
      "Value error exception handler\n",
      "Both cases\n"
     ]
    }
   ],
   "source": [
    "try:\n",
    "    print \"hello\"\n",
    "    raise ValueError\n",
    "    print \"hai\"\n",
    "except ImportError:\n",
    "    print \"Import Exception handler\"\n",
    "except ValueError:\n",
    "    print \"Value error exception handler\"\n",
    "except IOError:\n",
    "    print \"File related exception handler\"\n",
    "except NameError:\n",
    "    print\"Name error related hablder\"\n",
    "except  TypeError:\n",
    "    print \"Type Error Exception\"\n",
    "except:\n",
    "    print \"default exception \"\n",
    "else:\n",
    "    print \"No exception\"\n",
    "finally:\n",
    "    print \"Both cases\""
   ]
  }
 ],
 "metadata": {
  "kernelspec": {
   "display_name": "Python 2",
   "language": "python",
   "name": "python2"
  },
  "language_info": {
   "codemirror_mode": {
    "name": "ipython",
    "version": 2
   },
   "file_extension": ".py",
   "mimetype": "text/x-python",
   "name": "python",
   "nbconvert_exporter": "python",
   "pygments_lexer": "ipython2",
   "version": "2.7.16"
  }
 },
 "nbformat": 4,
 "nbformat_minor": 2
}
