{
 "cells": [
  {
   "cell_type": "code",
   "execution_count": null,
   "metadata": {},
   "outputs": [],
   "source": [
    "# simple if\n",
    "'''\n",
    "wap for applying the voter id \n",
    "'''\n",
    "age = input(\"enter age of you : \")\n",
    "if( age >= 18):\n",
    "    print \"your eligible for applying the voter id \"\n",
    "    name = input(\"enter your full name : \")\n",
    "    DOB  = input(\"enter your data of birth: \")\n",
    "    mail = input(\"enter your mail id : \")\n",
    "    phone= input(\"enter your phone number :\" )\n",
    "print \"Thanks for visiting the voter id center\""
   ]
  },
  {
   "cell_type": "code",
   "execution_count": null,
   "metadata": {},
   "outputs": [],
   "source": [
    "# nested if \n",
    "'''\n",
    "if block contains one more if block\n",
    "'''\n",
    "# wap find a number is it possible for factorial \n",
    "num = input(\"enter a number : \")\n",
    "if(isinstance(num,int)):\n",
    "    if(num >= 0 ):\n",
    "        print num,\" is possible for factorial\""
   ]
  },
  {
   "cell_type": "code",
   "execution_count": null,
   "metadata": {},
   "outputs": [],
   "source": [
    "#nested if with  if -else\n",
    "# wap find a number is it possible for factorial or not\n",
    "num = input(\"enter a number : \")\n",
    "if( isinstance(num,int)):\n",
    "    if(num >= 0 ):\n",
    "            print num,\" is possible for factorial\"\n",
    "    else:\n",
    "        print num,\" is not possible for factorial\"\n",
    "        print \"given number is negative number\"\n",
    "else:\n",
    "        print num,\" is not possible for factorial\"\n",
    "        print \"given number is non integer \""
   ]
  },
  {
   "cell_type": "code",
   "execution_count": null,
   "metadata": {},
   "outputs": [],
   "source": []
  },
  {
   "cell_type": "code",
   "execution_count": null,
   "metadata": {},
   "outputs": [],
   "source": [
    "import math\n",
    "print math.factorial(5.545)"
   ]
  },
  {
   "cell_type": "code",
   "execution_count": null,
   "metadata": {},
   "outputs": [],
   "source": [
    "# wap display the salary based on exp\n",
    "exp = input(\"enter no of years of exp : \")\n",
    "if(exp> 0 and exp <= 2):\n",
    "    print \"salary 2.4 lac PA\"\n",
    "elif ( exp >2 and exp <=4):\n",
    "    print \"salary 4.8 lac PA\"\n",
    "elif( exp > 4 and exp <=6):\n",
    "    print\"salary 6 lac PA\"\n",
    "elif(exp > 6 and exp <= 10):\n",
    "    print \"salary 12 lac PA\"\n",
    "elif(exp > 10):\n",
    "    print \"salary  25 lac PA\"\n",
    "else:\n",
    "    print \"enter proper exp\""
   ]
  },
  {
   "cell_type": "code",
   "execution_count": null,
   "metadata": {},
   "outputs": [],
   "source": [
    "# wap find the given number is even or not\n",
    "\n",
    "# wap find the biggest number from 2 number\n",
    "\n",
    "# wap find the smallest number from 3 numbers"
   ]
  },
  {
   "cell_type": "code",
   "execution_count": 1,
   "metadata": {},
   "outputs": [
    {
     "name": "stdout",
     "output_type": "stream",
     "text": [
      "enter no of iterations : 10\n",
      "**** 1 ****\n",
      "name: anjan\n",
      "phone: 546546\n",
      "mail : kjkjdjd\n",
      "**** 2 ****\n",
      "name: anjan\n",
      "phone: 546546\n",
      "mail : kjkjdjd\n",
      "**** 3 ****\n",
      "name: anjan\n",
      "phone: 546546\n",
      "mail : kjkjdjd\n",
      "**** 4 ****\n",
      "name: anjan\n",
      "phone: 546546\n",
      "mail : kjkjdjd\n",
      "**** 5 ****\n",
      "name: anjan\n",
      "phone: 546546\n",
      "mail : kjkjdjd\n",
      "**** 6 ****\n",
      "name: anjan\n",
      "phone: 546546\n",
      "mail : kjkjdjd\n",
      "**** 7 ****\n",
      "name: anjan\n",
      "phone: 546546\n",
      "mail : kjkjdjd\n",
      "**** 8 ****\n",
      "name: anjan\n",
      "phone: 546546\n",
      "mail : kjkjdjd\n",
      "**** 9 ****\n",
      "name: anjan\n",
      "phone: 546546\n",
      "mail : kjkjdjd\n",
      "**** 10 ****\n",
      "name: anjan\n",
      "phone: 546546\n",
      "mail : kjkjdjd\n",
      "when while condition failed \n",
      "Task over\n"
     ]
    }
   ],
   "source": [
    "# while\n",
    "\n",
    "# wap print your details 5 times\n",
    "\n",
    "N = input(\"enter no of iterations : \")\n",
    "i = 1\n",
    "while(i <= N ):\n",
    "    print \"****\",i,\"****\"\n",
    "    print \"name: anjan\"\n",
    "    print \"phone: 546546\"\n",
    "    print \"mail : kjkjdjd\"\n",
    "    i = i +1\n",
    "else:\n",
    "    print \"when while condition failed \"\n",
    "print \"Task over\""
   ]
  },
  {
   "cell_type": "code",
   "execution_count": 2,
   "metadata": {},
   "outputs": [
    {
     "name": "stdout",
     "output_type": "stream",
     "text": [
      "enter N value : 10\n",
      "sum :  55\n",
      "Task over\n"
     ]
    }
   ],
   "source": [
    "# wap  find the sum of 1st N natural numbers \n",
    "# N = 10\n",
    "# i =1\n",
    "# sum =0\n",
    "# 1+2+3+4+5+6+7+8+9+10 ===>> sum ===>> 55\n",
    "N = input(\"enter N value : \")\n",
    "sum = 0\n",
    "i = 1\n",
    "while(i <= N):\n",
    "    sum = sum +i\n",
    "    i = i + 1\n",
    "else:\n",
    "    print \"sum : \",sum\n",
    "print \"Task over\""
   ]
  },
  {
   "cell_type": "code",
   "execution_count": 12,
   "metadata": {},
   "outputs": [
    {
     "name": "stdout",
     "output_type": "stream",
     "text": [
      "enter N value : 6\n",
      "fact :  720\n",
      "Task over\n"
     ]
    }
   ],
   "source": [
    "# wap find the factorial of a number\n",
    "# 5 ===>>> 1*2*3*4*5 ==>>120\n",
    "N = input(\"enter N value : \")\n",
    "fact = 1\n",
    "i = 1\n",
    "if( isinstance(N ,int)  and ( N >=0)):\n",
    "    while(i <= N):\n",
    "        fact = fact * i\n",
    "        i = i + 1\n",
    "    else:\n",
    "        print \"fact : \",fact\n",
    "else:\n",
    "    print \"factorial is not possitble\"\n",
    "print \"Task over\""
   ]
  },
  {
   "cell_type": "code",
   "execution_count": 13,
   "metadata": {},
   "outputs": [
    {
     "data": {
      "text/plain": [
       "[0, 1, 2, 3, 4, 5, 6, 7, 8, 9]"
      ]
     },
     "execution_count": 13,
     "metadata": {},
     "output_type": "execute_result"
    }
   ],
   "source": [
    "range(10)"
   ]
  },
  {
   "cell_type": "code",
   "execution_count": 14,
   "metadata": {},
   "outputs": [
    {
     "data": {
      "text/plain": [
       "[2, 3, 4, 5, 6, 7, 8, 9, 10, 11, 12, 13, 14, 15, 16, 17, 18, 19]"
      ]
     },
     "execution_count": 14,
     "metadata": {},
     "output_type": "execute_result"
    }
   ],
   "source": [
    "range(2,20)"
   ]
  },
  {
   "cell_type": "code",
   "execution_count": 15,
   "metadata": {},
   "outputs": [
    {
     "data": {
      "text/plain": [
       "[2, 7, 12, 17, 22, 27, 32, 37]"
      ]
     },
     "execution_count": 15,
     "metadata": {},
     "output_type": "execute_result"
    }
   ],
   "source": [
    "range(2,40,5)"
   ]
  },
  {
   "cell_type": "code",
   "execution_count": 19,
   "metadata": {},
   "outputs": [
    {
     "name": "stdout",
     "output_type": "stream",
     "text": [
      "enter N : \"ajdb\"\n",
      "Multiplication is not possible\n"
     ]
    }
   ],
   "source": [
    "#wap for mutliplication table for any user input\n",
    "N =input(\"enter N : \")\n",
    "if(isinstance(N,int)):\n",
    "    for var in range(1,11):\n",
    "        print N,\" * \",var,\" = \",var*N\n",
    "    else:\n",
    "        print\"for loop over\"\n",
    "else:\n",
    "    print \"Multiplication is not possible\"\n",
    "    \n"
   ]
  },
  {
   "cell_type": "code",
   "execution_count": 22,
   "metadata": {},
   "outputs": [
    {
     "name": "stdout",
     "output_type": "stream",
     "text": [
      "1\n",
      "2\n",
      "3\n"
     ]
    }
   ],
   "source": [
    "# control keywords \n",
    "# break keyword \n",
    "#stop the loop\n",
    "for var in range(1,11):\n",
    "    if(var == 4 or var == 6):\n",
    "        break\n",
    "    print var\n",
    "else:\n",
    "    print \"for loop failed\""
   ]
  },
  {
   "cell_type": "code",
   "execution_count": 23,
   "metadata": {},
   "outputs": [
    {
     "name": "stdout",
     "output_type": "stream",
     "text": [
      "for loop over\n"
     ]
    }
   ],
   "source": [
    "# pass \n",
    "'''\n",
    "empty block\n",
    "'''\n",
    "for var in range(100):\n",
    "    pass\n",
    "else:\n",
    "    print \"for loop over\""
   ]
  },
  {
   "cell_type": "code",
   "execution_count": null,
   "metadata": {},
   "outputs": [],
   "source": []
  },
  {
   "cell_type": "code",
   "execution_count": 21,
   "metadata": {},
   "outputs": [
    {
     "name": "stdout",
     "output_type": "stream",
     "text": [
      "1\n",
      "2\n",
      "3\n",
      "5\n",
      "7\n",
      "8\n",
      "9\n",
      "10\n"
     ]
    }
   ],
   "source": [
    "# control keywords \n",
    "# continue keyword \n",
    "'''\n",
    "skip the present iteration and continue  to the next iteration\n",
    "'''\n",
    "# print to 1 to 10 except 4 and 6\n",
    "for var in range(1,11):\n",
    "    if(var == 4 or var == 6):\n",
    "        continue\n",
    "    print var"
   ]
  },
  {
   "cell_type": "code",
   "execution_count": 3,
   "metadata": {},
   "outputs": [
    {
     "name": "stdout",
     "output_type": "stream",
     "text": [
      "enter num  : 12.54\n",
      " not possible for find the factors \n"
     ]
    }
   ],
   "source": [
    "# wap find the number of factors for any number\n",
    "num = input(\"enter num  : \")\n",
    "f_c = 0\n",
    "var = 1\n",
    "if(isinstance(num,int)):\n",
    "    while(var <= num):\n",
    "        if(num %var == 0):\n",
    "            print \"factor : \",var\n",
    "            f_c = f_c + 1\n",
    "        var = var+1\n",
    "    else:\n",
    "        print \"no of factor : \",f_c\n",
    "else:\n",
    "    print \" not possible for find the factors \"\n"
   ]
  },
  {
   "cell_type": "code",
   "execution_count": null,
   "metadata": {},
   "outputs": [],
   "source": []
  },
  {
   "cell_type": "code",
   "execution_count": null,
   "metadata": {},
   "outputs": [],
   "source": []
  },
  {
   "cell_type": "code",
   "execution_count": 7,
   "metadata": {},
   "outputs": [
    {
     "name": "stdout",
     "output_type": "stream",
     "text": [
      "enter num  : 10\n",
      "factor :  1\n",
      "factor :  2\n",
      "factor :  5\n",
      "factor :  10\n",
      "no of factor :  4\n",
      "10 is not prime\n"
     ]
    }
   ],
   "source": [
    "\n",
    "# wap find the given prime number \n",
    "# 2,3,5,7,11,13,17,19\n",
    "num = input(\"enter num  : \")\n",
    "f_c = 0\n",
    "var = 1\n",
    "if(isinstance(num,int)):\n",
    "    while(var <= num):\n",
    "        if(num %var == 0):\n",
    "            print \"factor : \",var\n",
    "            f_c = f_c + 1\n",
    "        var = var+1\n",
    "    else:\n",
    "        print \"no of factor : \",f_c\n",
    "    if(f_c == 2):\n",
    "        print num,\" is prime\"\n",
    "    else:\n",
    "        print num,\"is not prime\"\n",
    "else:\n",
    "    print \" not possible for find the factors\""
   ]
  },
  {
   "cell_type": "code",
   "execution_count": 9,
   "metadata": {},
   "outputs": [
    {
     "name": "stdout",
     "output_type": "stream",
     "text": [
      "starting  : 10\n",
      "stop  :30\n",
      "11  is prime\n",
      "13  is prime\n",
      "17  is prime\n",
      "19  is prime\n",
      "23  is prime\n",
      "29  is prime\n"
     ]
    }
   ],
   "source": [
    "# wap find the prime numbers in between 10 to 30\n",
    "\n",
    "start = input(\"starting  : \")\n",
    "stop = input(\"stop  :\")\n",
    "for num in range(start ,stop+1):\n",
    "    f_c = 0\n",
    "    var = 1\n",
    "    if(isinstance(num,int)):\n",
    "        while(var <= num):\n",
    "            if(num %var == 0):\n",
    "                f_c = f_c + 1\n",
    "            var = var+1\n",
    "\n",
    "        if(f_c == 2):\n",
    "            print num,\" is prime\"\n",
    "\n",
    "    else:\n",
    "        print \" not possible for find the factors\""
   ]
  },
  {
   "cell_type": "code",
   "execution_count": 11,
   "metadata": {},
   "outputs": [
    {
     "name": "stdout",
     "output_type": "stream",
     "text": [
      "enter num : 10\n",
      "0     1     1     2     3     5     8     13     21     34    \n"
     ]
    }
   ],
   "source": [
    "#wap generate the fibonic series of elements\n",
    "# 0  1   1   2   3   5   8  13   21  34\n",
    "num = input(\"enter num : \")\n",
    "a = 0 \n",
    "b = 1\n",
    "for var in range(num):\n",
    "    print a,\"   \",\n",
    "    c = a+b\n",
    "    a = b\n",
    "    b =c"
   ]
  },
  {
   "cell_type": "code",
   "execution_count": 15,
   "metadata": {},
   "outputs": [
    {
     "name": "stdout",
     "output_type": "stream",
     "text": [
      "enter no of digits : 1023\n",
      "1023  is having  4  no of digits\n"
     ]
    }
   ],
   "source": [
    "# wap find the no of digits in a number\n",
    "# 23567 ===>>  5\n",
    "# 8056 ===>>  4\n",
    "num =input(\"enter no of digits : \")\n",
    "temp  =num\n",
    "count = 0\n",
    "while(temp != 0):\n",
    "    count += 1\n",
    "    temp = temp /10\n",
    "else:\n",
    "    print num,\" is having \",count,\" no of digits\""
   ]
  },
  {
   "cell_type": "code",
   "execution_count": null,
   "metadata": {},
   "outputs": [],
   "source": [
    "# wap find sum of digits in a  numbers"
   ]
  },
  {
   "cell_type": "code",
   "execution_count": 16,
   "metadata": {},
   "outputs": [
    {
     "name": "stdout",
     "output_type": "stream",
     "text": [
      "3\n",
      "2\n",
      "1\n"
     ]
    }
   ],
   "source": [
    "a = 123\n",
    "print a%10\n",
    "b = a/10\n",
    "print b %10\n",
    "c = b/10\n",
    "print c%10"
   ]
  },
  {
   "cell_type": "code",
   "execution_count": null,
   "metadata": {},
   "outputs": [],
   "source": [
    "# wap find the reverse of a number \n",
    "# 1245 === >>> 5421\n"
   ]
  },
  {
   "cell_type": "code",
   "execution_count": null,
   "metadata": {},
   "outputs": [],
   "source": [
    "# wap find the given number is palidrome or not \n",
    "# 453 ===>> 354 ===>> not palindrom\n",
    "# 353 ==>>> 353 ===>> palindrom"
   ]
  },
  {
   "cell_type": "code",
   "execution_count": 18,
   "metadata": {},
   "outputs": [
    {
     "name": "stdout",
     "output_type": "stream",
     "text": [
      "enter of rows : 5\n",
      "enter of col : 5\n",
      "*   *   *   *   *  \n",
      "*   *   *   *   *  \n",
      "*   *   *   *   *  \n",
      "*   *   *   *   *  \n",
      "*   *   *   *   *  \n"
     ]
    }
   ],
   "source": [
    "'''\n",
    "*  *   *  * \n",
    "*  *   *  * \n",
    "*  *   *  *\n",
    "*  *   *  *\n",
    "*  *   *  *\n",
    "\n",
    "'''\n",
    "row = input(\"enter of rows : \")\n",
    "col = input(\"enter of col : \")\n",
    "for r in range(row):\n",
    "    for c in range(col):\n",
    "        print \"*  \",\n",
    "    print "
   ]
  },
  {
   "cell_type": "code",
   "execution_count": 20,
   "metadata": {},
   "outputs": [
    {
     "name": "stdout",
     "output_type": "stream",
     "text": [
      "enter rows :5\n",
      "*  \n",
      "*   *  \n",
      "*   *   *  \n",
      "*   *   *   *  \n",
      "*   *   *   *   *  \n"
     ]
    }
   ],
   "source": [
    "'''\n",
    "*\n",
    "*  *\n",
    "*  *  *\n",
    "*  *  *  *\n",
    "*  *  *  *   *\n",
    "'''\n",
    "row = input(\"enter rows :\")\n",
    "for r in range(1,row+1):\n",
    "    for c in range(r):\n",
    "        print \"*  \",\n",
    "    print \n",
    "    \n"
   ]
  },
  {
   "cell_type": "code",
   "execution_count": null,
   "metadata": {},
   "outputs": [],
   "source": []
  },
  {
   "cell_type": "code",
   "execution_count": null,
   "metadata": {},
   "outputs": [],
   "source": []
  },
  {
   "cell_type": "code",
   "execution_count": null,
   "metadata": {},
   "outputs": [],
   "source": []
  },
  {
   "cell_type": "code",
   "execution_count": null,
   "metadata": {},
   "outputs": [],
   "source": []
  },
  {
   "cell_type": "code",
   "execution_count": null,
   "metadata": {},
   "outputs": [],
   "source": []
  },
  {
   "cell_type": "code",
   "execution_count": null,
   "metadata": {},
   "outputs": [],
   "source": []
  },
  {
   "cell_type": "code",
   "execution_count": null,
   "metadata": {},
   "outputs": [],
   "source": []
  },
  {
   "cell_type": "code",
   "execution_count": null,
   "metadata": {},
   "outputs": [],
   "source": []
  },
  {
   "cell_type": "code",
   "execution_count": null,
   "metadata": {},
   "outputs": [],
   "source": []
  },
  {
   "cell_type": "code",
   "execution_count": null,
   "metadata": {},
   "outputs": [],
   "source": []
  },
  {
   "cell_type": "code",
   "execution_count": null,
   "metadata": {},
   "outputs": [],
   "source": []
  },
  {
   "cell_type": "code",
   "execution_count": null,
   "metadata": {},
   "outputs": [],
   "source": []
  },
  {
   "cell_type": "code",
   "execution_count": null,
   "metadata": {},
   "outputs": [],
   "source": []
  },
  {
   "cell_type": "code",
   "execution_count": null,
   "metadata": {},
   "outputs": [],
   "source": []
  },
  {
   "cell_type": "code",
   "execution_count": null,
   "metadata": {},
   "outputs": [],
   "source": []
  },
  {
   "cell_type": "code",
   "execution_count": null,
   "metadata": {},
   "outputs": [],
   "source": []
  }
 ],
 "metadata": {
  "kernelspec": {
   "display_name": "Python 2",
   "language": "python",
   "name": "python2"
  },
  "language_info": {
   "codemirror_mode": {
    "name": "ipython",
    "version": 2
   },
   "file_extension": ".py",
   "mimetype": "text/x-python",
   "name": "python",
   "nbconvert_exporter": "python",
   "pygments_lexer": "ipython2",
   "version": "2.7.16"
  }
 },
 "nbformat": 4,
 "nbformat_minor": 2
}
