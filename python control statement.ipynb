{
 "cells": [
  {
   "cell_type": "code",
   "execution_count": null,
   "metadata": {},
   "outputs": [],
   "source": [
    "# simple if\n",
    "'''\n",
    "wap for applying the voter id \n",
    "'''\n",
    "age = input(\"enter age of you : \")\n",
    "if( age >= 18):\n",
    "    print \"your eligible for applying the voter id \"\n",
    "    name = input(\"enter your full name : \")\n",
    "    DOB  = input(\"enter your data of birth: \")\n",
    "    mail = input(\"enter your mail id : \")\n",
    "    phone= input(\"enter your phone number :\" )\n",
    "print \"Thanks for visiting the voter id center\""
   ]
  },
  {
   "cell_type": "code",
   "execution_count": 9,
   "metadata": {},
   "outputs": [
    {
     "name": "stdout",
     "output_type": "stream",
     "text": [
      "enter a number : 56\n",
      "56  is possible for factorial\n"
     ]
    }
   ],
   "source": [
    "# nested if \n",
    "'''\n",
    "if block contains one more if block\n",
    "'''\n",
    "# wap find a number is it possible for factorial \n",
    "num = input(\"enter a number : \")\n",
    "if(isinstance(num,int)):\n",
    "    if(num >= 0 ):\n",
    "        print num,\" is possible for factorial\""
   ]
  },
  {
   "cell_type": "code",
   "execution_count": 14,
   "metadata": {},
   "outputs": [
    {
     "name": "stdout",
     "output_type": "stream",
     "text": [
      "enter a number : 5.645\n",
      "5.645  is not possible for factorial\n",
      "given number is non integer \n"
     ]
    }
   ],
   "source": [
    "#nested if with  if -else\n",
    "# wap find a number is it possible for factorial or not\n",
    "num = input(\"enter a number : \")\n",
    "if( isinstance(num,int)):\n",
    "    if(num >= 0 ):\n",
    "            print num,\" is possible for factorial\"\n",
    "    else:\n",
    "        print num,\" is not possible for factorial\"\n",
    "        print \"given number is negative number\"\n",
    "else:\n",
    "        print num,\" is not possible for factorial\"\n",
    "        print \"given number is non integer \""
   ]
  },
  {
   "cell_type": "code",
   "execution_count": null,
   "metadata": {},
   "outputs": [],
   "source": []
  },
  {
   "cell_type": "code",
   "execution_count": 7,
   "metadata": {},
   "outputs": [
    {
     "ename": "ValueError",
     "evalue": "factorial() only accepts integral values",
     "output_type": "error",
     "traceback": [
      "\u001b[1;31m---------------------------------------------------------------------------\u001b[0m",
      "\u001b[1;31mValueError\u001b[0m                                Traceback (most recent call last)",
      "\u001b[1;32m<ipython-input-7-32c875554bb9>\u001b[0m in \u001b[0;36m<module>\u001b[1;34m()\u001b[0m\n\u001b[0;32m      1\u001b[0m \u001b[1;32mimport\u001b[0m \u001b[0mmath\u001b[0m\u001b[1;33m\u001b[0m\u001b[0m\n\u001b[1;32m----> 2\u001b[1;33m \u001b[1;32mprint\u001b[0m \u001b[0mmath\u001b[0m\u001b[1;33m.\u001b[0m\u001b[0mfactorial\u001b[0m\u001b[1;33m(\u001b[0m\u001b[1;36m5.545\u001b[0m\u001b[1;33m)\u001b[0m\u001b[1;33m\u001b[0m\u001b[0m\n\u001b[0m",
      "\u001b[1;31mValueError\u001b[0m: factorial() only accepts integral values"
     ]
    }
   ],
   "source": [
    "import math\n",
    "print math.factorial(5.545)"
   ]
  },
  {
   "cell_type": "code",
   "execution_count": 18,
   "metadata": {},
   "outputs": [
    {
     "name": "stdout",
     "output_type": "stream",
     "text": [
      "enter no of years of exp : 2\n",
      "salary 2.4 lac PA\n"
     ]
    }
   ],
   "source": [
    "# wap display the salary based on exp\n",
    "exp = input(\"enter no of years of exp : \")\n",
    "if(exp> 0 and exp <= 2):\n",
    "    print \"salary 2.4 lac PA\"\n",
    "elif ( exp >2 and exp <=4):\n",
    "    print \"salary 4.8 lac PA\"\n",
    "elif( exp > 4 and exp <=6):\n",
    "    print\"salary 6 lac PA\"\n",
    "elif(exp > 6 and exp <= 10):\n",
    "    print \"salary 12 lac PA\"\n",
    "elif(exp > 10):\n",
    "    print \"salary  25 lac PA\"\n",
    "else:\n",
    "    print \"enter proper exp\""
   ]
  },
  {
   "cell_type": "code",
   "execution_count": null,
   "metadata": {},
   "outputs": [],
   "source": [
    "# wap find the given number is even or not\n",
    "\n",
    "# wap find the biggest number from 2 number\n",
    "\n",
    "# wap find the smallest number from 3 numbers"
   ]
  }
 ],
 "metadata": {
  "kernelspec": {
   "display_name": "Python 2",
   "language": "python",
   "name": "python2"
  },
  "language_info": {
   "codemirror_mode": {
    "name": "ipython",
    "version": 2
   },
   "file_extension": ".py",
   "mimetype": "text/x-python",
   "name": "python",
   "nbconvert_exporter": "python",
   "pygments_lexer": "ipython2",
   "version": "2.7.16"
  }
 },
 "nbformat": 4,
 "nbformat_minor": 2
}
