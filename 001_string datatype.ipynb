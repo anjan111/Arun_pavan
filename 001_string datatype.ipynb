{
 "cells": [
  {
   "cell_type": "markdown",
   "metadata": {},
   "source": [
    "# str\n",
    "\n",
    "===>> collection of character with in ' / \" /''' /\"\"\""
   ]
  },
  {
   "cell_type": "code",
   "execution_count": 2,
   "metadata": {},
   "outputs": [
    {
     "name": "stdout",
     "output_type": "stream",
     "text": [
      "soc\n",
      "<class 'str'>\n",
      "882694412416\n"
     ]
    }
   ],
   "source": [
    "var = 'soc'\n",
    "print(var)\n",
    "print(type(var))\n",
    "print(id(var))"
   ]
  },
  {
   "cell_type": "code",
   "execution_count": 3,
   "metadata": {},
   "outputs": [
    {
     "name": "stdout",
     "output_type": "stream",
     "text": [
      "soc\n",
      "<class 'str'>\n",
      "882694412416\n"
     ]
    }
   ],
   "source": [
    "var = \"soc\"\n",
    "print(var)\n",
    "print(type(var))\n",
    "print(id(var))"
   ]
  },
  {
   "cell_type": "code",
   "execution_count": 4,
   "metadata": {},
   "outputs": [
    {
     "name": "stdout",
     "output_type": "stream",
     "text": [
      "soc\n",
      "<class 'str'>\n",
      "882694412416\n"
     ]
    }
   ],
   "source": [
    "var = '''soc'''\n",
    "print(var)\n",
    "print(type(var))\n",
    "print(id(var))"
   ]
  },
  {
   "cell_type": "code",
   "execution_count": 5,
   "metadata": {},
   "outputs": [
    {
     "name": "stdout",
     "output_type": "stream",
     "text": [
      "soc\n",
      "<class 'str'>\n",
      "882694412416\n"
     ]
    }
   ],
   "source": [
    "var = \"\"\"soc\"\"\"\n",
    "print(var)\n",
    "print(type(var))\n",
    "print(id(var))"
   ]
  },
  {
   "cell_type": "code",
   "execution_count": 6,
   "metadata": {},
   "outputs": [
    {
     "name": "stdout",
     "output_type": "stream",
     "text": [
      "soc softech\n",
      "socsocsoc\n"
     ]
    }
   ],
   "source": [
    "a = \"soc\"\n",
    "b = \" softech\"\n",
    "print(a + b)\n",
    "print(a * 3)"
   ]
  },
  {
   "cell_type": "code",
   "execution_count": 9,
   "metadata": {},
   "outputs": [
    {
     "name": "stdout",
     "output_type": "stream",
     "text": [
      "10\n",
      "t\n",
      "c\n"
     ]
    }
   ],
   "source": [
    "var = \"socsoftech\"\n",
    "print(len(var))\n",
    "print(max(var))\n",
    "print(min(var))"
   ]
  },
  {
   "cell_type": "code",
   "execution_count": 10,
   "metadata": {},
   "outputs": [
    {
     "data": {
      "text/plain": [
       "115"
      ]
     },
     "execution_count": 10,
     "metadata": {},
     "output_type": "execute_result"
    }
   ],
   "source": [
    "ord('s')"
   ]
  },
  {
   "cell_type": "code",
   "execution_count": 11,
   "metadata": {},
   "outputs": [
    {
     "data": {
      "text/plain": [
       "'s'"
      ]
     },
     "execution_count": 11,
     "metadata": {},
     "output_type": "execute_result"
    }
   ],
   "source": [
    "chr(115)"
   ]
  },
  {
   "cell_type": "code",
   "execution_count": 1,
   "metadata": {},
   "outputs": [
    {
     "name": "stdout",
     "output_type": "stream",
     "text": [
      "3\n",
      "positive index\n",
      "s\n",
      "o\n",
      "c\n",
      "Negative index\n",
      "c\n",
      "o\n",
      "s\n"
     ]
    }
   ],
   "source": [
    "# string indexing \n",
    "'''\n",
    "===>> to access the indiviual character from your string with some real\n",
    "number\n",
    "\n",
    "===>>  Positive index  ===>>>    0   to    len -1\n",
    "\n",
    "===>>  Negative index   ===>>     -1  to -len\n",
    "'''\n",
    "\n",
    "var = \"soc\"\n",
    "print(len(var)) # 3\n",
    "print(\"positive index\")\n",
    "print(var[0]) # 's'\n",
    "print(var[1]) # 'o'\n",
    "print(var[2]) # 'c'\n",
    "print(\"Negative index\")\n",
    "print(var[-1]) # 'c'\n",
    "print(var[-2]) #'o'\n",
    "print(var[-3]) #'s'"
   ]
  },
  {
   "cell_type": "code",
   "execution_count": 6,
   "metadata": {},
   "outputs": [
    {
     "name": "stdout",
     "output_type": "stream",
     "text": [
      "14\n",
      "on pro\n",
      "on program\n",
      "python pro\n"
     ]
    }
   ],
   "source": [
    "#  string slicing \n",
    "'''\n",
    "===>> we can access group of characters continuosly\n",
    "\n",
    "var [ start_index   :   stop_index]\n",
    "\n",
    "start_index ===>>> 0\n",
    "\n",
    "stop_index ===>>>  len of str\n",
    "'''\n",
    "var = \"python program\"\n",
    "print(len(var))\n",
    "print(var[4:10])# from 4th to 9th index\n",
    "print(var[4:])# from 4 to 13 index characters \n",
    "print(var[:10])# from 0 to 9  index  characters we can access at a time"
   ]
  },
  {
   "cell_type": "code",
   "execution_count": 10,
   "metadata": {},
   "outputs": [
    {
     "name": "stdout",
     "output_type": "stream",
     "text": [
      "yopg\n",
      "ython progr\n"
     ]
    }
   ],
   "source": [
    "# string dicing \n",
    "'''\n",
    "===>> To access group of character from str with step wise characters\n",
    "\n",
    "var[ start :   stop  :  step]\n",
    "\n",
    "start ===>> 0\n",
    "\n",
    "stop  ===>> len\n",
    "\n",
    "step   ===>> 1\n",
    "\n",
    "'''\n",
    "var = \"python program\"\n",
    "print(var[1:12:3])# 1,4,7,10 ====>>\n",
    "print(var[1:12:])"
   ]
  },
  {
   "cell_type": "code",
   "execution_count": 12,
   "metadata": {},
   "outputs": [
    {
     "name": "stdout",
     "output_type": "stream",
     "text": [
      "o\n"
     ]
    },
    {
     "ename": "TypeError",
     "evalue": "'str' object does not support item assignment",
     "output_type": "error",
     "traceback": [
      "\u001b[1;31m---------------------------------------------------------------------------\u001b[0m",
      "\u001b[1;31mTypeError\u001b[0m                                 Traceback (most recent call last)",
      "\u001b[1;32m<ipython-input-12-80e642e4eb71>\u001b[0m in \u001b[0;36m<module>\u001b[1;34m\u001b[0m\n\u001b[0;32m      5\u001b[0m \u001b[0mvar\u001b[0m \u001b[1;33m=\u001b[0m \u001b[1;34m\"soc\"\u001b[0m\u001b[1;33m\u001b[0m\u001b[1;33m\u001b[0m\u001b[0m\n\u001b[0;32m      6\u001b[0m \u001b[0mprint\u001b[0m\u001b[1;33m(\u001b[0m\u001b[0mvar\u001b[0m\u001b[1;33m[\u001b[0m\u001b[1;36m1\u001b[0m\u001b[1;33m]\u001b[0m\u001b[1;33m)\u001b[0m\u001b[1;33m\u001b[0m\u001b[1;33m\u001b[0m\u001b[0m\n\u001b[1;32m----> 7\u001b[1;33m \u001b[0mvar\u001b[0m\u001b[1;33m[\u001b[0m\u001b[1;36m1\u001b[0m\u001b[1;33m]\u001b[0m \u001b[1;33m=\u001b[0m \u001b[1;34m'O'\u001b[0m\u001b[1;33m\u001b[0m\u001b[1;33m\u001b[0m\u001b[0m\n\u001b[0m",
      "\u001b[1;31mTypeError\u001b[0m: 'str' object does not support item assignment"
     ]
    }
   ],
   "source": [
    "# str is a immutable datatype\n",
    "\n",
    "# we can't modify the existing characters\n",
    "\n",
    "var = \"soc\"\n",
    "print(var[1])\n",
    "var[1] = 'O'"
   ]
  },
  {
   "cell_type": "code",
   "execution_count": 13,
   "metadata": {},
   "outputs": [
    {
     "data": {
      "text/plain": [
       "['__add__',\n",
       " '__class__',\n",
       " '__contains__',\n",
       " '__delattr__',\n",
       " '__dir__',\n",
       " '__doc__',\n",
       " '__eq__',\n",
       " '__format__',\n",
       " '__ge__',\n",
       " '__getattribute__',\n",
       " '__getitem__',\n",
       " '__getnewargs__',\n",
       " '__gt__',\n",
       " '__hash__',\n",
       " '__init__',\n",
       " '__init_subclass__',\n",
       " '__iter__',\n",
       " '__le__',\n",
       " '__len__',\n",
       " '__lt__',\n",
       " '__mod__',\n",
       " '__mul__',\n",
       " '__ne__',\n",
       " '__new__',\n",
       " '__reduce__',\n",
       " '__reduce_ex__',\n",
       " '__repr__',\n",
       " '__rmod__',\n",
       " '__rmul__',\n",
       " '__setattr__',\n",
       " '__sizeof__',\n",
       " '__str__',\n",
       " '__subclasshook__',\n",
       " 'capitalize',\n",
       " 'casefold',\n",
       " 'center',\n",
       " 'count',\n",
       " 'encode',\n",
       " 'endswith',\n",
       " 'expandtabs',\n",
       " 'find',\n",
       " 'format',\n",
       " 'format_map',\n",
       " 'index',\n",
       " 'isalnum',\n",
       " 'isalpha',\n",
       " 'isascii',\n",
       " 'isdecimal',\n",
       " 'isdigit',\n",
       " 'isidentifier',\n",
       " 'islower',\n",
       " 'isnumeric',\n",
       " 'isprintable',\n",
       " 'isspace',\n",
       " 'istitle',\n",
       " 'isupper',\n",
       " 'join',\n",
       " 'ljust',\n",
       " 'lower',\n",
       " 'lstrip',\n",
       " 'maketrans',\n",
       " 'partition',\n",
       " 'replace',\n",
       " 'rfind',\n",
       " 'rindex',\n",
       " 'rjust',\n",
       " 'rpartition',\n",
       " 'rsplit',\n",
       " 'rstrip',\n",
       " 'split',\n",
       " 'splitlines',\n",
       " 'startswith',\n",
       " 'strip',\n",
       " 'swapcase',\n",
       " 'title',\n",
       " 'translate',\n",
       " 'upper',\n",
       " 'zfill']"
      ]
     },
     "execution_count": 13,
     "metadata": {},
     "output_type": "execute_result"
    }
   ],
   "source": [
    "dir(str)"
   ]
  },
  {
   "cell_type": "code",
   "execution_count": 23,
   "metadata": {},
   "outputs": [
    {
     "name": "stdout",
     "output_type": "stream",
     "text": [
      "python program\n",
      "python program\n",
      "n\n",
      "n\n",
      "True\n",
      "True\n",
      "False\n",
      "False\n",
      "True\n",
      "True\n",
      "False\n",
      "False\n",
      "True\n",
      "True\n"
     ]
    }
   ],
   "source": [
    "# str is a class which is having 2 kind of methods\n",
    "\n",
    "# special methods \n",
    "#==================\n",
    "#==>>> special methods are used for to do a task with out calling\n",
    "a =\"python \"\n",
    "\n",
    "b = \"program\"\n",
    "print(a+b)\n",
    "print(a.__add__(b))\n",
    "print(a[5])\n",
    "print(a.__getitem__(5))\n",
    "print('o' in a)\n",
    "print(a.__contains__('o'))\n",
    "print( a  == b)\n",
    "print(a.__eq__(b))\n",
    "print(a != b)\n",
    "print(a.__ne__(b))\n",
    "print(a < b)\n",
    "print(a.__lt__(b))\n",
    "print(a > b)\n",
    "print(a.__gt__(b))\n",
    "# manipulation method"
   ]
  },
  {
   "cell_type": "code",
   "execution_count": null,
   "metadata": {},
   "outputs": [],
   "source": []
  }
 ],
 "metadata": {
  "kernelspec": {
   "display_name": "Python 3",
   "language": "python",
   "name": "python3"
  },
  "language_info": {
   "codemirror_mode": {
    "name": "ipython",
    "version": 3
   },
   "file_extension": ".py",
   "mimetype": "text/x-python",
   "name": "python",
   "nbconvert_exporter": "python",
   "pygments_lexer": "ipython3",
   "version": "3.7.3"
  }
 },
 "nbformat": 4,
 "nbformat_minor": 2
}
