{
 "cells": [
  {
   "cell_type": "code",
   "execution_count": 2,
   "metadata": {},
   "outputs": [
    {
     "name": "stdout",
     "output_type": "stream",
     "text": [
      "enter var   : 10\n",
      "enter a seq : [10,20,45]\n",
      "10  in  [10, 20, 45]  is  True\n",
      "10  not in  [10, 20, 45]  is  False\n",
      "enter var   : 45\n",
      "enter a seq : [12,40,67]\n",
      "45  in  [12, 40, 67]  is  False\n",
      "45  not in  [12, 40, 67]  is  True\n"
     ]
    }
   ],
   "source": [
    "# membership operator\n",
    "'''\n",
    "in\n",
    "not in\n",
    "'''\n",
    "var = input(\"enter var   : \")\n",
    "seq = input(\"enter a seq : \")\n",
    "print var,\" in \",seq ,\" is \", var in seq\n",
    "print var,\" not in \",seq,\" is \", var not in seq\n",
    "var = input(\"enter var   : \")\n",
    "seq = input(\"enter a seq : \")\n",
    "print var,\" in \",seq ,\" is \", var in seq\n",
    "print var,\" not in \",seq,\" is \", var not in seq"
   ]
  },
  {
   "cell_type": "code",
   "execution_count": 6,
   "metadata": {},
   "outputs": [
    {
     "name": "stdout",
     "output_type": "stream",
     "text": [
      "enter list [12,34,56]\n",
      "enter a data : [12,34,56]\n",
      "id a :  78701576\n",
      "id b :  78701000\n",
      "78701576  is  78701000 ---->>  False\n",
      "78701576  is not   78701000 ---->>  True\n",
      "id a :  78701576\n",
      "id c :  78701576\n",
      "78701576  is  78701576 ---->>  True\n",
      "78701576  is not   78701576 ---->>  False\n"
     ]
    }
   ],
   "source": [
    "# identity operator\n",
    "'''\n",
    "is \n",
    "\n",
    "\n",
    "is not\n",
    "'''\n",
    "a = input(\"enter list \")\n",
    "b = input(\"enter a data : \")\n",
    "print \"id a : \",id(a)\n",
    "print \"id b : \",id(b)\n",
    "print id(a),\" is \",id(b),\"---->> \",a is b\n",
    "print id(a),\" is not  \",id(b),\"---->> \", a is not b\n",
    "\n",
    "c = a\n",
    "print \"id a : \",id(a)\n",
    "print \"id c : \",id(c)\n",
    "print id(a),\" is \",id(c),\"---->> \", a is c\n",
    "print id(a),\" is not  \",id(c),\"---->> \", a is not c\n"
   ]
  },
  {
   "cell_type": "code",
   "execution_count": null,
   "metadata": {},
   "outputs": [],
   "source": []
  }
 ],
 "metadata": {
  "kernelspec": {
   "display_name": "Python 2",
   "language": "python",
   "name": "python2"
  },
  "language_info": {
   "codemirror_mode": {
    "name": "ipython",
    "version": 2
   },
   "file_extension": ".py",
   "mimetype": "text/x-python",
   "name": "python",
   "nbconvert_exporter": "python",
   "pygments_lexer": "ipython2",
   "version": "2.7.16"
  }
 },
 "nbformat": 4,
 "nbformat_minor": 2
}
